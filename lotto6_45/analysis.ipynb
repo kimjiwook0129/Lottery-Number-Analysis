{
 "cells": [
  {
   "cell_type": "markdown",
   "source": [
    "# Exploratory Data Analysis"
   ],
   "metadata": {}
  },
  {
   "cell_type": "code",
   "execution_count": 274,
   "source": [
    "%matplotlib inline\n",
    "\n",
    "import matplotlib.pyplot as plt\n",
    "import pandas as pd\n",
    "import numpy as np\n",
    "import sqlite3\n",
    "from collections import Counter\n",
    "from statistics import mean\n",
    "\n",
    "import warnings\n",
    "warnings.filterwarnings('ignore')"
   ],
   "outputs": [],
   "metadata": {}
  },
  {
   "cell_type": "code",
   "execution_count": 275,
   "source": [
    "db_path = \"lottery.db\""
   ],
   "outputs": [],
   "metadata": {}
  },
  {
   "cell_type": "code",
   "execution_count": 276,
   "source": [
    "def fromDBtoDF(query):\n",
    "    con = sqlite3.connect(db_path)\n",
    "    cur = con.cursor()\n",
    "    cur.execute(query)\n",
    "    names = list(map(lambda x: x[0], cur.description))\n",
    "    info = cur.fetchall()\n",
    "    con.commit()\n",
    "    con.close()\n",
    "    return pd.DataFrame(info, columns = names)"
   ],
   "outputs": [],
   "metadata": {}
  },
  {
   "cell_type": "code",
   "execution_count": 277,
   "source": [
    "draws_df = fromDBtoDF(\"\"\"SELECT * FROM `DRAWS`\"\"\")"
   ],
   "outputs": [],
   "metadata": {}
  },
  {
   "cell_type": "code",
   "execution_count": 278,
   "source": [
    "draws_df.head(3)"
   ],
   "outputs": [
    {
     "output_type": "execute_result",
     "data": {
      "text/plain": [
       "   turn  num_1  num_2  num_3  num_4  num_5  num_6  num_bonus\n",
       "0     1     10     23     29     33     37     40         16\n",
       "1     2      9     13     21     25     32     42          2\n",
       "2     3     11     16     19     21     27     31         30"
      ],
      "text/html": [
       "<div>\n",
       "<style scoped>\n",
       "    .dataframe tbody tr th:only-of-type {\n",
       "        vertical-align: middle;\n",
       "    }\n",
       "\n",
       "    .dataframe tbody tr th {\n",
       "        vertical-align: top;\n",
       "    }\n",
       "\n",
       "    .dataframe thead th {\n",
       "        text-align: right;\n",
       "    }\n",
       "</style>\n",
       "<table border=\"1\" class=\"dataframe\">\n",
       "  <thead>\n",
       "    <tr style=\"text-align: right;\">\n",
       "      <th></th>\n",
       "      <th>turn</th>\n",
       "      <th>num_1</th>\n",
       "      <th>num_2</th>\n",
       "      <th>num_3</th>\n",
       "      <th>num_4</th>\n",
       "      <th>num_5</th>\n",
       "      <th>num_6</th>\n",
       "      <th>num_bonus</th>\n",
       "    </tr>\n",
       "  </thead>\n",
       "  <tbody>\n",
       "    <tr>\n",
       "      <th>0</th>\n",
       "      <td>1</td>\n",
       "      <td>10</td>\n",
       "      <td>23</td>\n",
       "      <td>29</td>\n",
       "      <td>33</td>\n",
       "      <td>37</td>\n",
       "      <td>40</td>\n",
       "      <td>16</td>\n",
       "    </tr>\n",
       "    <tr>\n",
       "      <th>1</th>\n",
       "      <td>2</td>\n",
       "      <td>9</td>\n",
       "      <td>13</td>\n",
       "      <td>21</td>\n",
       "      <td>25</td>\n",
       "      <td>32</td>\n",
       "      <td>42</td>\n",
       "      <td>2</td>\n",
       "    </tr>\n",
       "    <tr>\n",
       "      <th>2</th>\n",
       "      <td>3</td>\n",
       "      <td>11</td>\n",
       "      <td>16</td>\n",
       "      <td>19</td>\n",
       "      <td>21</td>\n",
       "      <td>27</td>\n",
       "      <td>31</td>\n",
       "      <td>30</td>\n",
       "    </tr>\n",
       "  </tbody>\n",
       "</table>\n",
       "</div>"
      ]
     },
     "metadata": {},
     "execution_count": 278
    }
   ],
   "metadata": {}
  },
  {
   "cell_type": "code",
   "execution_count": 279,
   "source": [
    "def recentDrawInDB(db_path):\n",
    "    con = sqlite3.connect(db_path)\n",
    "    cur = con.cursor()\n",
    "    cur.execute(\"SELECT MAX(turn) FROM DRAWS\")\n",
    "    info = cur.fetchall()\n",
    "    con.commit()\n",
    "    con.close()\n",
    "    return int(info[0][0])"
   ],
   "outputs": [],
   "metadata": {}
  },
  {
   "cell_type": "code",
   "execution_count": 281,
   "source": [
    "def number_frequencies(firstDraw=1, lastDraw=recentDrawInDB(db_path)):\n",
    "    nums = []\n",
    "    for c in draws_df.columns[1:-1]:\n",
    "        nums = nums + list(draws_df[(draws_df['turn'] >= firstDraw) & (draws_df['turn'] <= lastDraw)][c])\n",
    "    nums_counter = Counter(nums)\n",
    "    min_freq_key, max_freq_key = min(nums_counter, key=lambda x:nums_counter[x]), max(nums_counter, key=lambda x:nums_counter[x])\n",
    "    min_freq, max_freq = nums_counter[min_freq_key], nums_counter[max_freq_key]\n",
    "    freq_mean = mean(list(map(lambda x : nums_counter[x], nums_counter)))\n",
    "    plt.rcParams['figure.figsize'] = [15, 8]\n",
    "    fig = plt.hist(nums, bins=45, edgecolor='black', linewidth=1.2)\n",
    "\n",
    "    plt.plot([2., 44], [freq_mean, freq_mean], 'k--')\n",
    "    plt.ylabel('Count', fontsize = 12)\n",
    "    plt.xlabel('Number', fontsize = 12)\n",
    "    plt.xlim(1, 45)\n",
    "    plt.ylim(min_freq - 1, max_freq + 1)\n",
    "    plt.title('Number Frequency')\n",
    "    plt.show()\n",
    "    return nums_counter"
   ],
   "outputs": [],
   "metadata": {}
  },
  {
   "cell_type": "code",
   "execution_count": 285,
   "source": [
    "mostRecentDraw = recentDrawInDB(db_path)\n",
    "firstDraw = 1"
   ],
   "outputs": [],
   "metadata": {}
  },
  {
   "cell_type": "code",
   "execution_count": 286,
   "source": [
    "nums_counter = number_frequencies(firstDraw, mostRecentDraw)"
   ],
   "outputs": [
    {
     "output_type": "display_data",
     "data": {
      "text/plain": [
       "<Figure size 1080x576 with 1 Axes>"
      ],
      "image/svg+xml": "<?xml version=\"1.0\" encoding=\"utf-8\" standalone=\"no\"?>\n<!DOCTYPE svg PUBLIC \"-//W3C//DTD SVG 1.1//EN\"\n  \"http://www.w3.org/Graphics/SVG/1.1/DTD/svg11.dtd\">\n<!-- Created with matplotlib (https://matplotlib.org/) -->\n<svg height=\"496.69pt\" version=\"1.1\" viewBox=\"0 0 899.46375 496.69\" width=\"899.46375pt\" xmlns=\"http://www.w3.org/2000/svg\" xmlns:xlink=\"http://www.w3.org/1999/xlink\">\n <defs>\n  <style type=\"text/css\">\n*{stroke-linecap:butt;stroke-linejoin:round;}\n  </style>\n </defs>\n <g id=\"figure_1\">\n  <g id=\"patch_1\">\n   <path d=\"M 0 496.69 \nL 899.46375 496.69 \nL 899.46375 0 \nL 0 0 \nz\n\" style=\"fill:none;\"/>\n  </g>\n  <g id=\"axes_1\">\n   <g id=\"patch_2\">\n    <path d=\"M 48.90125 457.198125 \nL 885.90125 457.198125 \nL 885.90125 22.318125 \nL 48.90125 22.318125 \nz\n\" style=\"fill:#ffffff;\"/>\n   </g>\n   <g id=\"patch_3\">\n    <path clip-path=\"url(#pe58cef069d)\" d=\"M 48.90125 1390.378125 \nL 67.50125 1390.378125 \nL 67.50125 140.098125 \nL 48.90125 140.098125 \nz\n\" style=\"fill:#1f77b4;stroke:#000000;stroke-linejoin:miter;stroke-width:1.2;\"/>\n   </g>\n   <g id=\"patch_4\">\n    <path clip-path=\"url(#pe58cef069d)\" d=\"M 67.50125 1390.378125 \nL 86.10125 1390.378125 \nL 86.10125 203.518125 \nL 67.50125 203.518125 \nz\n\" style=\"fill:#1f77b4;stroke:#000000;stroke-linejoin:miter;stroke-width:1.2;\"/>\n   </g>\n   <g id=\"patch_5\">\n    <path clip-path=\"url(#pe58cef069d)\" d=\"M 86.10125 1390.378125 \nL 104.70125 1390.378125 \nL 104.70125 212.578125 \nL 86.10125 212.578125 \nz\n\" style=\"fill:#1f77b4;stroke:#000000;stroke-linejoin:miter;stroke-width:1.2;\"/>\n   </g>\n   <g id=\"patch_6\">\n    <path clip-path=\"url(#pe58cef069d)\" d=\"M 104.70125 1390.378125 \nL 123.30125 1390.378125 \nL 123.30125 176.338125 \nL 104.70125 176.338125 \nz\n\" style=\"fill:#1f77b4;stroke:#000000;stroke-linejoin:miter;stroke-width:1.2;\"/>\n   </g>\n   <g id=\"patch_7\">\n    <path clip-path=\"url(#pe58cef069d)\" d=\"M 123.30125 1390.378125 \nL 141.90125 1390.378125 \nL 141.90125 221.638125 \nL 123.30125 221.638125 \nz\n\" style=\"fill:#1f77b4;stroke:#000000;stroke-linejoin:miter;stroke-width:1.2;\"/>\n   </g>\n   <g id=\"patch_8\">\n    <path clip-path=\"url(#pe58cef069d)\" d=\"M 141.90125 1390.378125 \nL 160.50125 1390.378125 \nL 160.50125 275.998125 \nL 141.90125 275.998125 \nz\n\" style=\"fill:#1f77b4;stroke:#000000;stroke-linejoin:miter;stroke-width:1.2;\"/>\n   </g>\n   <g id=\"patch_9\">\n    <path clip-path=\"url(#pe58cef069d)\" d=\"M 160.50125 1390.378125 \nL 179.10125 1390.378125 \nL 179.10125 239.758125 \nL 160.50125 239.758125 \nz\n\" style=\"fill:#1f77b4;stroke:#000000;stroke-linejoin:miter;stroke-width:1.2;\"/>\n   </g>\n   <g id=\"patch_10\">\n    <path clip-path=\"url(#pe58cef069d)\" d=\"M 179.10125 1390.378125 \nL 197.70125 1390.378125 \nL 197.70125 221.638125 \nL 179.10125 221.638125 \nz\n\" style=\"fill:#1f77b4;stroke:#000000;stroke-linejoin:miter;stroke-width:1.2;\"/>\n   </g>\n   <g id=\"patch_11\">\n    <path clip-path=\"url(#pe58cef069d)\" d=\"M 197.70125 1390.378125 \nL 216.30125 1390.378125 \nL 216.30125 448.138125 \nL 197.70125 448.138125 \nz\n\" style=\"fill:#1f77b4;stroke:#000000;stroke-linejoin:miter;stroke-width:1.2;\"/>\n   </g>\n   <g id=\"patch_12\">\n    <path clip-path=\"url(#pe58cef069d)\" d=\"M 216.30125 1390.378125 \nL 234.90125 1390.378125 \nL 234.90125 167.278125 \nL 216.30125 167.278125 \nz\n\" style=\"fill:#1f77b4;stroke:#000000;stroke-linejoin:miter;stroke-width:1.2;\"/>\n   </g>\n   <g id=\"patch_13\">\n    <path clip-path=\"url(#pe58cef069d)\" d=\"M 234.90125 1390.378125 \nL 253.50125 1390.378125 \nL 253.50125 194.458125 \nL 234.90125 194.458125 \nz\n\" style=\"fill:#1f77b4;stroke:#000000;stroke-linejoin:miter;stroke-width:1.2;\"/>\n   </g>\n   <g id=\"patch_14\">\n    <path clip-path=\"url(#pe58cef069d)\" d=\"M 253.50125 1390.378125 \nL 272.10125 1390.378125 \nL 272.10125 121.978125 \nL 253.50125 121.978125 \nz\n\" style=\"fill:#1f77b4;stroke:#000000;stroke-linejoin:miter;stroke-width:1.2;\"/>\n   </g>\n   <g id=\"patch_15\">\n    <path clip-path=\"url(#pe58cef069d)\" d=\"M 272.10125 1390.378125 \nL 290.70125 1390.378125 \nL 290.70125 149.158125 \nL 272.10125 149.158125 \nz\n\" style=\"fill:#1f77b4;stroke:#000000;stroke-linejoin:miter;stroke-width:1.2;\"/>\n   </g>\n   <g id=\"patch_16\">\n    <path clip-path=\"url(#pe58cef069d)\" d=\"M 290.70125 1390.378125 \nL 309.30125 1390.378125 \nL 309.30125 149.158125 \nL 290.70125 149.158125 \nz\n\" style=\"fill:#1f77b4;stroke:#000000;stroke-linejoin:miter;stroke-width:1.2;\"/>\n   </g>\n   <g id=\"patch_17\">\n    <path clip-path=\"url(#pe58cef069d)\" d=\"M 309.30125 1390.378125 \nL 327.90125 1390.378125 \nL 327.90125 203.518125 \nL 309.30125 203.518125 \nz\n\" style=\"fill:#1f77b4;stroke:#000000;stroke-linejoin:miter;stroke-width:1.2;\"/>\n   </g>\n   <g id=\"patch_18\">\n    <path clip-path=\"url(#pe58cef069d)\" d=\"M 327.90125 1390.378125 \nL 346.50125 1390.378125 \nL 346.50125 248.818125 \nL 327.90125 248.818125 \nz\n\" style=\"fill:#1f77b4;stroke:#000000;stroke-linejoin:miter;stroke-width:1.2;\"/>\n   </g>\n   <g id=\"patch_19\">\n    <path clip-path=\"url(#pe58cef069d)\" d=\"M 346.50125 1390.378125 \nL 365.10125 1390.378125 \nL 365.10125 121.978125 \nL 346.50125 121.978125 \nz\n\" style=\"fill:#1f77b4;stroke:#000000;stroke-linejoin:miter;stroke-width:1.2;\"/>\n   </g>\n   <g id=\"patch_20\">\n    <path clip-path=\"url(#pe58cef069d)\" d=\"M 365.10125 1390.378125 \nL 383.70125 1390.378125 \nL 383.70125 103.858125 \nL 365.10125 103.858125 \nz\n\" style=\"fill:#1f77b4;stroke:#000000;stroke-linejoin:miter;stroke-width:1.2;\"/>\n   </g>\n   <g id=\"patch_21\">\n    <path clip-path=\"url(#pe58cef069d)\" d=\"M 383.70125 1390.378125 \nL 402.30125 1390.378125 \nL 402.30125 194.458125 \nL 383.70125 194.458125 \nz\n\" style=\"fill:#1f77b4;stroke:#000000;stroke-linejoin:miter;stroke-width:1.2;\"/>\n   </g>\n   <g id=\"patch_22\">\n    <path clip-path=\"url(#pe58cef069d)\" d=\"M 402.30125 1390.378125 \nL 420.90125 1390.378125 \nL 420.90125 167.278125 \nL 402.30125 167.278125 \nz\n\" style=\"fill:#1f77b4;stroke:#000000;stroke-linejoin:miter;stroke-width:1.2;\"/>\n   </g>\n   <g id=\"patch_23\">\n    <path clip-path=\"url(#pe58cef069d)\" d=\"M 420.90125 1390.378125 \nL 439.50125 1390.378125 \nL 439.50125 203.518125 \nL 420.90125 203.518125 \nz\n\" style=\"fill:#1f77b4;stroke:#000000;stroke-linejoin:miter;stroke-width:1.2;\"/>\n   </g>\n   <g id=\"patch_24\">\n    <path clip-path=\"url(#pe58cef069d)\" d=\"M 439.50125 1390.378125 \nL 458.10125 1390.378125 \nL 458.10125 375.658125 \nL 439.50125 375.658125 \nz\n\" style=\"fill:#1f77b4;stroke:#000000;stroke-linejoin:miter;stroke-width:1.2;\"/>\n   </g>\n   <g id=\"patch_25\">\n    <path clip-path=\"url(#pe58cef069d)\" d=\"M 458.10125 1390.378125 \nL 476.70125 1390.378125 \nL 476.70125 339.418125 \nL 458.10125 339.418125 \nz\n\" style=\"fill:#1f77b4;stroke:#000000;stroke-linejoin:miter;stroke-width:1.2;\"/>\n   </g>\n   <g id=\"patch_26\">\n    <path clip-path=\"url(#pe58cef069d)\" d=\"M 476.70125 1390.378125 \nL 495.30125 1390.378125 \nL 495.30125 212.578125 \nL 476.70125 212.578125 \nz\n\" style=\"fill:#1f77b4;stroke:#000000;stroke-linejoin:miter;stroke-width:1.2;\"/>\n   </g>\n   <g id=\"patch_27\">\n    <path clip-path=\"url(#pe58cef069d)\" d=\"M 495.30125 1390.378125 \nL 513.90125 1390.378125 \nL 513.90125 248.818125 \nL 495.30125 248.818125 \nz\n\" style=\"fill:#1f77b4;stroke:#000000;stroke-linejoin:miter;stroke-width:1.2;\"/>\n   </g>\n   <g id=\"patch_28\">\n    <path clip-path=\"url(#pe58cef069d)\" d=\"M 513.90125 1390.378125 \nL 532.50125 1390.378125 \nL 532.50125 221.638125 \nL 513.90125 221.638125 \nz\n\" style=\"fill:#1f77b4;stroke:#000000;stroke-linejoin:miter;stroke-width:1.2;\"/>\n   </g>\n   <g id=\"patch_29\">\n    <path clip-path=\"url(#pe58cef069d)\" d=\"M 532.50125 1390.378125 \nL 551.10125 1390.378125 \nL 551.10125 112.918125 \nL 532.50125 112.918125 \nz\n\" style=\"fill:#1f77b4;stroke:#000000;stroke-linejoin:miter;stroke-width:1.2;\"/>\n   </g>\n   <g id=\"patch_30\">\n    <path clip-path=\"url(#pe58cef069d)\" d=\"M 551.10125 1390.378125 \nL 569.70125 1390.378125 \nL 569.70125 285.058125 \nL 551.10125 285.058125 \nz\n\" style=\"fill:#1f77b4;stroke:#000000;stroke-linejoin:miter;stroke-width:1.2;\"/>\n   </g>\n   <g id=\"patch_31\">\n    <path clip-path=\"url(#pe58cef069d)\" d=\"M 569.70125 1390.378125 \nL 588.30125 1390.378125 \nL 588.30125 312.238125 \nL 569.70125 312.238125 \nz\n\" style=\"fill:#1f77b4;stroke:#000000;stroke-linejoin:miter;stroke-width:1.2;\"/>\n   </g>\n   <g id=\"patch_32\">\n    <path clip-path=\"url(#pe58cef069d)\" d=\"M 588.30125 1390.378125 \nL 606.90125 1390.378125 \nL 606.90125 321.298125 \nL 588.30125 321.298125 \nz\n\" style=\"fill:#1f77b4;stroke:#000000;stroke-linejoin:miter;stroke-width:1.2;\"/>\n   </g>\n   <g id=\"patch_33\">\n    <path clip-path=\"url(#pe58cef069d)\" d=\"M 606.90125 1390.378125 \nL 625.50125 1390.378125 \nL 625.50125 194.458125 \nL 606.90125 194.458125 \nz\n\" style=\"fill:#1f77b4;stroke:#000000;stroke-linejoin:miter;stroke-width:1.2;\"/>\n   </g>\n   <g id=\"patch_34\">\n    <path clip-path=\"url(#pe58cef069d)\" d=\"M 625.50125 1390.378125 \nL 644.10125 1390.378125 \nL 644.10125 384.718125 \nL 625.50125 384.718125 \nz\n\" style=\"fill:#1f77b4;stroke:#000000;stroke-linejoin:miter;stroke-width:1.2;\"/>\n   </g>\n   <g id=\"patch_35\">\n    <path clip-path=\"url(#pe58cef069d)\" d=\"M 644.10125 1390.378125 \nL 662.70125 1390.378125 \nL 662.70125 167.278125 \nL 644.10125 167.278125 \nz\n\" style=\"fill:#1f77b4;stroke:#000000;stroke-linejoin:miter;stroke-width:1.2;\"/>\n   </g>\n   <g id=\"patch_36\">\n    <path clip-path=\"url(#pe58cef069d)\" d=\"M 662.70125 1390.378125 \nL 681.30125 1390.378125 \nL 681.30125 31.378125 \nL 662.70125 31.378125 \nz\n\" style=\"fill:#1f77b4;stroke:#000000;stroke-linejoin:miter;stroke-width:1.2;\"/>\n   </g>\n   <g id=\"patch_37\">\n    <path clip-path=\"url(#pe58cef069d)\" d=\"M 681.30125 1390.378125 \nL 699.90125 1390.378125 \nL 699.90125 303.178125 \nL 681.30125 303.178125 \nz\n\" style=\"fill:#1f77b4;stroke:#000000;stroke-linejoin:miter;stroke-width:1.2;\"/>\n   </g>\n   <g id=\"patch_38\">\n    <path clip-path=\"url(#pe58cef069d)\" d=\"M 699.90125 1390.378125 \nL 718.50125 1390.378125 \nL 718.50125 203.518125 \nL 699.90125 203.518125 \nz\n\" style=\"fill:#1f77b4;stroke:#000000;stroke-linejoin:miter;stroke-width:1.2;\"/>\n   </g>\n   <g id=\"patch_39\">\n    <path clip-path=\"url(#pe58cef069d)\" d=\"M 718.50125 1390.378125 \nL 737.10125 1390.378125 \nL 737.10125 158.218125 \nL 718.50125 158.218125 \nz\n\" style=\"fill:#1f77b4;stroke:#000000;stroke-linejoin:miter;stroke-width:1.2;\"/>\n   </g>\n   <g id=\"patch_40\">\n    <path clip-path=\"url(#pe58cef069d)\" d=\"M 737.10125 1390.378125 \nL 755.70125 1390.378125 \nL 755.70125 212.578125 \nL 737.10125 212.578125 \nz\n\" style=\"fill:#1f77b4;stroke:#000000;stroke-linejoin:miter;stroke-width:1.2;\"/>\n   </g>\n   <g id=\"patch_41\">\n    <path clip-path=\"url(#pe58cef069d)\" d=\"M 755.70125 1390.378125 \nL 774.30125 1390.378125 \nL 774.30125 112.918125 \nL 755.70125 112.918125 \nz\n\" style=\"fill:#1f77b4;stroke:#000000;stroke-linejoin:miter;stroke-width:1.2;\"/>\n   </g>\n   <g id=\"patch_42\">\n    <path clip-path=\"url(#pe58cef069d)\" d=\"M 774.30125 1390.378125 \nL 792.90125 1390.378125 \nL 792.90125 112.918125 \nL 774.30125 112.918125 \nz\n\" style=\"fill:#1f77b4;stroke:#000000;stroke-linejoin:miter;stroke-width:1.2;\"/>\n   </g>\n   <g id=\"patch_43\">\n    <path clip-path=\"url(#pe58cef069d)\" d=\"M 792.90125 1390.378125 \nL 811.50125 1390.378125 \nL 811.50125 303.178125 \nL 792.90125 303.178125 \nz\n\" style=\"fill:#1f77b4;stroke:#000000;stroke-linejoin:miter;stroke-width:1.2;\"/>\n   </g>\n   <g id=\"patch_44\">\n    <path clip-path=\"url(#pe58cef069d)\" d=\"M 811.50125 1390.378125 \nL 830.10125 1390.378125 \nL 830.10125 239.758125 \nL 811.50125 239.758125 \nz\n\" style=\"fill:#1f77b4;stroke:#000000;stroke-linejoin:miter;stroke-width:1.2;\"/>\n   </g>\n   <g id=\"patch_45\">\n    <path clip-path=\"url(#pe58cef069d)\" d=\"M 830.10125 1390.378125 \nL 848.70125 1390.378125 \nL 848.70125 94.798125 \nL 830.10125 94.798125 \nz\n\" style=\"fill:#1f77b4;stroke:#000000;stroke-linejoin:miter;stroke-width:1.2;\"/>\n   </g>\n   <g id=\"patch_46\">\n    <path clip-path=\"url(#pe58cef069d)\" d=\"M 848.70125 1390.378125 \nL 867.30125 1390.378125 \nL 867.30125 230.698125 \nL 848.70125 230.698125 \nz\n\" style=\"fill:#1f77b4;stroke:#000000;stroke-linejoin:miter;stroke-width:1.2;\"/>\n   </g>\n   <g id=\"patch_47\">\n    <path clip-path=\"url(#pe58cef069d)\" d=\"M 867.30125 1390.378125 \nL 885.90125 1390.378125 \nL 885.90125 167.278125 \nL 867.30125 167.278125 \nz\n\" style=\"fill:#1f77b4;stroke:#000000;stroke-linejoin:miter;stroke-width:1.2;\"/>\n   </g>\n   <g id=\"matplotlib.axis_1\">\n    <g id=\"xtick_1\">\n     <g id=\"line2d_1\">\n      <defs>\n       <path d=\"M 0 0 \nL 0 3.5 \n\" id=\"m6e30f5ba44\" style=\"stroke:#000000;stroke-width:0.8;\"/>\n      </defs>\n      <g>\n       <use style=\"stroke:#000000;stroke-width:0.8;\" x=\"124.992159\" xlink:href=\"#m6e30f5ba44\" y=\"457.198125\"/>\n      </g>\n     </g>\n     <g id=\"text_1\">\n      <!-- 5 -->\n      <defs>\n       <path d=\"M 10.796875 72.90625 \nL 49.515625 72.90625 \nL 49.515625 64.59375 \nL 19.828125 64.59375 \nL 19.828125 46.734375 \nQ 21.96875 47.46875 24.109375 47.828125 \nQ 26.265625 48.1875 28.421875 48.1875 \nQ 40.625 48.1875 47.75 41.5 \nQ 54.890625 34.8125 54.890625 23.390625 \nQ 54.890625 11.625 47.5625 5.09375 \nQ 40.234375 -1.421875 26.90625 -1.421875 \nQ 22.3125 -1.421875 17.546875 -0.640625 \nQ 12.796875 0.140625 7.71875 1.703125 \nL 7.71875 11.625 \nQ 12.109375 9.234375 16.796875 8.0625 \nQ 21.484375 6.890625 26.703125 6.890625 \nQ 35.15625 6.890625 40.078125 11.328125 \nQ 45.015625 15.765625 45.015625 23.390625 \nQ 45.015625 31 40.078125 35.4375 \nQ 35.15625 39.890625 26.703125 39.890625 \nQ 22.75 39.890625 18.8125 39.015625 \nQ 14.890625 38.140625 10.796875 36.28125 \nz\n\" id=\"DejaVuSans-53\"/>\n      </defs>\n      <g transform=\"translate(121.810909 471.796562)scale(0.1 -0.1)\">\n       <use xlink:href=\"#DejaVuSans-53\"/>\n      </g>\n     </g>\n    </g>\n    <g id=\"xtick_2\">\n     <g id=\"line2d_2\">\n      <g>\n       <use style=\"stroke:#000000;stroke-width:0.8;\" x=\"220.105795\" xlink:href=\"#m6e30f5ba44\" y=\"457.198125\"/>\n      </g>\n     </g>\n     <g id=\"text_2\">\n      <!-- 10 -->\n      <defs>\n       <path d=\"M 12.40625 8.296875 \nL 28.515625 8.296875 \nL 28.515625 63.921875 \nL 10.984375 60.40625 \nL 10.984375 69.390625 \nL 28.421875 72.90625 \nL 38.28125 72.90625 \nL 38.28125 8.296875 \nL 54.390625 8.296875 \nL 54.390625 0 \nL 12.40625 0 \nz\n\" id=\"DejaVuSans-49\"/>\n       <path d=\"M 31.78125 66.40625 \nQ 24.171875 66.40625 20.328125 58.90625 \nQ 16.5 51.421875 16.5 36.375 \nQ 16.5 21.390625 20.328125 13.890625 \nQ 24.171875 6.390625 31.78125 6.390625 \nQ 39.453125 6.390625 43.28125 13.890625 \nQ 47.125 21.390625 47.125 36.375 \nQ 47.125 51.421875 43.28125 58.90625 \nQ 39.453125 66.40625 31.78125 66.40625 \nz\nM 31.78125 74.21875 \nQ 44.046875 74.21875 50.515625 64.515625 \nQ 56.984375 54.828125 56.984375 36.375 \nQ 56.984375 17.96875 50.515625 8.265625 \nQ 44.046875 -1.421875 31.78125 -1.421875 \nQ 19.53125 -1.421875 13.0625 8.265625 \nQ 6.59375 17.96875 6.59375 36.375 \nQ 6.59375 54.828125 13.0625 64.515625 \nQ 19.53125 74.21875 31.78125 74.21875 \nz\n\" id=\"DejaVuSans-48\"/>\n      </defs>\n      <g transform=\"translate(213.743295 471.796562)scale(0.1 -0.1)\">\n       <use xlink:href=\"#DejaVuSans-49\"/>\n       <use x=\"63.623047\" xlink:href=\"#DejaVuSans-48\"/>\n      </g>\n     </g>\n    </g>\n    <g id=\"xtick_3\">\n     <g id=\"line2d_3\">\n      <g>\n       <use style=\"stroke:#000000;stroke-width:0.8;\" x=\"315.219432\" xlink:href=\"#m6e30f5ba44\" y=\"457.198125\"/>\n      </g>\n     </g>\n     <g id=\"text_3\">\n      <!-- 15 -->\n      <g transform=\"translate(308.856932 471.796562)scale(0.1 -0.1)\">\n       <use xlink:href=\"#DejaVuSans-49\"/>\n       <use x=\"63.623047\" xlink:href=\"#DejaVuSans-53\"/>\n      </g>\n     </g>\n    </g>\n    <g id=\"xtick_4\">\n     <g id=\"line2d_4\">\n      <g>\n       <use style=\"stroke:#000000;stroke-width:0.8;\" x=\"410.333068\" xlink:href=\"#m6e30f5ba44\" y=\"457.198125\"/>\n      </g>\n     </g>\n     <g id=\"text_4\">\n      <!-- 20 -->\n      <defs>\n       <path d=\"M 19.1875 8.296875 \nL 53.609375 8.296875 \nL 53.609375 0 \nL 7.328125 0 \nL 7.328125 8.296875 \nQ 12.9375 14.109375 22.625 23.890625 \nQ 32.328125 33.6875 34.8125 36.53125 \nQ 39.546875 41.84375 41.421875 45.53125 \nQ 43.3125 49.21875 43.3125 52.78125 \nQ 43.3125 58.59375 39.234375 62.25 \nQ 35.15625 65.921875 28.609375 65.921875 \nQ 23.96875 65.921875 18.8125 64.3125 \nQ 13.671875 62.703125 7.8125 59.421875 \nL 7.8125 69.390625 \nQ 13.765625 71.78125 18.9375 73 \nQ 24.125 74.21875 28.421875 74.21875 \nQ 39.75 74.21875 46.484375 68.546875 \nQ 53.21875 62.890625 53.21875 53.421875 \nQ 53.21875 48.921875 51.53125 44.890625 \nQ 49.859375 40.875 45.40625 35.40625 \nQ 44.1875 33.984375 37.640625 27.21875 \nQ 31.109375 20.453125 19.1875 8.296875 \nz\n\" id=\"DejaVuSans-50\"/>\n      </defs>\n      <g transform=\"translate(403.970568 471.796562)scale(0.1 -0.1)\">\n       <use xlink:href=\"#DejaVuSans-50\"/>\n       <use x=\"63.623047\" xlink:href=\"#DejaVuSans-48\"/>\n      </g>\n     </g>\n    </g>\n    <g id=\"xtick_5\">\n     <g id=\"line2d_5\">\n      <g>\n       <use style=\"stroke:#000000;stroke-width:0.8;\" x=\"505.446705\" xlink:href=\"#m6e30f5ba44\" y=\"457.198125\"/>\n      </g>\n     </g>\n     <g id=\"text_5\">\n      <!-- 25 -->\n      <g transform=\"translate(499.084205 471.796562)scale(0.1 -0.1)\">\n       <use xlink:href=\"#DejaVuSans-50\"/>\n       <use x=\"63.623047\" xlink:href=\"#DejaVuSans-53\"/>\n      </g>\n     </g>\n    </g>\n    <g id=\"xtick_6\">\n     <g id=\"line2d_6\">\n      <g>\n       <use style=\"stroke:#000000;stroke-width:0.8;\" x=\"600.560341\" xlink:href=\"#m6e30f5ba44\" y=\"457.198125\"/>\n      </g>\n     </g>\n     <g id=\"text_6\">\n      <!-- 30 -->\n      <defs>\n       <path d=\"M 40.578125 39.3125 \nQ 47.65625 37.796875 51.625 33 \nQ 55.609375 28.21875 55.609375 21.1875 \nQ 55.609375 10.40625 48.1875 4.484375 \nQ 40.765625 -1.421875 27.09375 -1.421875 \nQ 22.515625 -1.421875 17.65625 -0.515625 \nQ 12.796875 0.390625 7.625 2.203125 \nL 7.625 11.71875 \nQ 11.71875 9.328125 16.59375 8.109375 \nQ 21.484375 6.890625 26.8125 6.890625 \nQ 36.078125 6.890625 40.9375 10.546875 \nQ 45.796875 14.203125 45.796875 21.1875 \nQ 45.796875 27.640625 41.28125 31.265625 \nQ 36.765625 34.90625 28.71875 34.90625 \nL 20.21875 34.90625 \nL 20.21875 43.015625 \nL 29.109375 43.015625 \nQ 36.375 43.015625 40.234375 45.921875 \nQ 44.09375 48.828125 44.09375 54.296875 \nQ 44.09375 59.90625 40.109375 62.90625 \nQ 36.140625 65.921875 28.71875 65.921875 \nQ 24.65625 65.921875 20.015625 65.03125 \nQ 15.375 64.15625 9.8125 62.3125 \nL 9.8125 71.09375 \nQ 15.4375 72.65625 20.34375 73.4375 \nQ 25.25 74.21875 29.59375 74.21875 \nQ 40.828125 74.21875 47.359375 69.109375 \nQ 53.90625 64.015625 53.90625 55.328125 \nQ 53.90625 49.265625 50.4375 45.09375 \nQ 46.96875 40.921875 40.578125 39.3125 \nz\n\" id=\"DejaVuSans-51\"/>\n      </defs>\n      <g transform=\"translate(594.197841 471.796562)scale(0.1 -0.1)\">\n       <use xlink:href=\"#DejaVuSans-51\"/>\n       <use x=\"63.623047\" xlink:href=\"#DejaVuSans-48\"/>\n      </g>\n     </g>\n    </g>\n    <g id=\"xtick_7\">\n     <g id=\"line2d_7\">\n      <g>\n       <use style=\"stroke:#000000;stroke-width:0.8;\" x=\"695.673977\" xlink:href=\"#m6e30f5ba44\" y=\"457.198125\"/>\n      </g>\n     </g>\n     <g id=\"text_7\">\n      <!-- 35 -->\n      <g transform=\"translate(689.311477 471.796562)scale(0.1 -0.1)\">\n       <use xlink:href=\"#DejaVuSans-51\"/>\n       <use x=\"63.623047\" xlink:href=\"#DejaVuSans-53\"/>\n      </g>\n     </g>\n    </g>\n    <g id=\"xtick_8\">\n     <g id=\"line2d_8\">\n      <g>\n       <use style=\"stroke:#000000;stroke-width:0.8;\" x=\"790.787614\" xlink:href=\"#m6e30f5ba44\" y=\"457.198125\"/>\n      </g>\n     </g>\n     <g id=\"text_8\">\n      <!-- 40 -->\n      <defs>\n       <path d=\"M 37.796875 64.3125 \nL 12.890625 25.390625 \nL 37.796875 25.390625 \nz\nM 35.203125 72.90625 \nL 47.609375 72.90625 \nL 47.609375 25.390625 \nL 58.015625 25.390625 \nL 58.015625 17.1875 \nL 47.609375 17.1875 \nL 47.609375 0 \nL 37.796875 0 \nL 37.796875 17.1875 \nL 4.890625 17.1875 \nL 4.890625 26.703125 \nz\n\" id=\"DejaVuSans-52\"/>\n      </defs>\n      <g transform=\"translate(784.425114 471.796562)scale(0.1 -0.1)\">\n       <use xlink:href=\"#DejaVuSans-52\"/>\n       <use x=\"63.623047\" xlink:href=\"#DejaVuSans-48\"/>\n      </g>\n     </g>\n    </g>\n    <g id=\"xtick_9\">\n     <g id=\"line2d_9\">\n      <g>\n       <use style=\"stroke:#000000;stroke-width:0.8;\" x=\"885.90125\" xlink:href=\"#m6e30f5ba44\" y=\"457.198125\"/>\n      </g>\n     </g>\n     <g id=\"text_9\">\n      <!-- 45 -->\n      <g transform=\"translate(879.53875 471.796562)scale(0.1 -0.1)\">\n       <use xlink:href=\"#DejaVuSans-52\"/>\n       <use x=\"63.623047\" xlink:href=\"#DejaVuSans-53\"/>\n      </g>\n     </g>\n    </g>\n    <g id=\"text_10\">\n     <!-- Number -->\n     <defs>\n      <path d=\"M 9.8125 72.90625 \nL 23.09375 72.90625 \nL 55.421875 11.921875 \nL 55.421875 72.90625 \nL 64.984375 72.90625 \nL 64.984375 0 \nL 51.703125 0 \nL 19.390625 60.984375 \nL 19.390625 0 \nL 9.8125 0 \nz\n\" id=\"DejaVuSans-78\"/>\n      <path d=\"M 8.5 21.578125 \nL 8.5 54.6875 \nL 17.484375 54.6875 \nL 17.484375 21.921875 \nQ 17.484375 14.15625 20.5 10.265625 \nQ 23.53125 6.390625 29.59375 6.390625 \nQ 36.859375 6.390625 41.078125 11.03125 \nQ 45.3125 15.671875 45.3125 23.6875 \nL 45.3125 54.6875 \nL 54.296875 54.6875 \nL 54.296875 0 \nL 45.3125 0 \nL 45.3125 8.40625 \nQ 42.046875 3.421875 37.71875 1 \nQ 33.40625 -1.421875 27.6875 -1.421875 \nQ 18.265625 -1.421875 13.375 4.4375 \nQ 8.5 10.296875 8.5 21.578125 \nz\nM 31.109375 56 \nz\n\" id=\"DejaVuSans-117\"/>\n      <path d=\"M 52 44.1875 \nQ 55.375 50.25 60.0625 53.125 \nQ 64.75 56 71.09375 56 \nQ 79.640625 56 84.28125 50.015625 \nQ 88.921875 44.046875 88.921875 33.015625 \nL 88.921875 0 \nL 79.890625 0 \nL 79.890625 32.71875 \nQ 79.890625 40.578125 77.09375 44.375 \nQ 74.3125 48.1875 68.609375 48.1875 \nQ 61.625 48.1875 57.5625 43.546875 \nQ 53.515625 38.921875 53.515625 30.90625 \nL 53.515625 0 \nL 44.484375 0 \nL 44.484375 32.71875 \nQ 44.484375 40.625 41.703125 44.40625 \nQ 38.921875 48.1875 33.109375 48.1875 \nQ 26.21875 48.1875 22.15625 43.53125 \nQ 18.109375 38.875 18.109375 30.90625 \nL 18.109375 0 \nL 9.078125 0 \nL 9.078125 54.6875 \nL 18.109375 54.6875 \nL 18.109375 46.1875 \nQ 21.1875 51.21875 25.484375 53.609375 \nQ 29.78125 56 35.6875 56 \nQ 41.65625 56 45.828125 52.96875 \nQ 50 49.953125 52 44.1875 \nz\n\" id=\"DejaVuSans-109\"/>\n      <path d=\"M 48.6875 27.296875 \nQ 48.6875 37.203125 44.609375 42.84375 \nQ 40.53125 48.484375 33.40625 48.484375 \nQ 26.265625 48.484375 22.1875 42.84375 \nQ 18.109375 37.203125 18.109375 27.296875 \nQ 18.109375 17.390625 22.1875 11.75 \nQ 26.265625 6.109375 33.40625 6.109375 \nQ 40.53125 6.109375 44.609375 11.75 \nQ 48.6875 17.390625 48.6875 27.296875 \nz\nM 18.109375 46.390625 \nQ 20.953125 51.265625 25.265625 53.625 \nQ 29.59375 56 35.59375 56 \nQ 45.5625 56 51.78125 48.09375 \nQ 58.015625 40.1875 58.015625 27.296875 \nQ 58.015625 14.40625 51.78125 6.484375 \nQ 45.5625 -1.421875 35.59375 -1.421875 \nQ 29.59375 -1.421875 25.265625 0.953125 \nQ 20.953125 3.328125 18.109375 8.203125 \nL 18.109375 0 \nL 9.078125 0 \nL 9.078125 75.984375 \nL 18.109375 75.984375 \nz\n\" id=\"DejaVuSans-98\"/>\n      <path d=\"M 56.203125 29.59375 \nL 56.203125 25.203125 \nL 14.890625 25.203125 \nQ 15.484375 15.921875 20.484375 11.0625 \nQ 25.484375 6.203125 34.421875 6.203125 \nQ 39.59375 6.203125 44.453125 7.46875 \nQ 49.3125 8.734375 54.109375 11.28125 \nL 54.109375 2.78125 \nQ 49.265625 0.734375 44.1875 -0.34375 \nQ 39.109375 -1.421875 33.890625 -1.421875 \nQ 20.796875 -1.421875 13.15625 6.1875 \nQ 5.515625 13.8125 5.515625 26.8125 \nQ 5.515625 40.234375 12.765625 48.109375 \nQ 20.015625 56 32.328125 56 \nQ 43.359375 56 49.78125 48.890625 \nQ 56.203125 41.796875 56.203125 29.59375 \nz\nM 47.21875 32.234375 \nQ 47.125 39.59375 43.09375 43.984375 \nQ 39.0625 48.390625 32.421875 48.390625 \nQ 24.90625 48.390625 20.390625 44.140625 \nQ 15.875 39.890625 15.1875 32.171875 \nz\n\" id=\"DejaVuSans-101\"/>\n      <path d=\"M 41.109375 46.296875 \nQ 39.59375 47.171875 37.8125 47.578125 \nQ 36.03125 48 33.890625 48 \nQ 26.265625 48 22.1875 43.046875 \nQ 18.109375 38.09375 18.109375 28.8125 \nL 18.109375 0 \nL 9.078125 0 \nL 9.078125 54.6875 \nL 18.109375 54.6875 \nL 18.109375 46.1875 \nQ 20.953125 51.171875 25.484375 53.578125 \nQ 30.03125 56 36.53125 56 \nQ 37.453125 56 38.578125 55.875 \nQ 39.703125 55.765625 41.0625 55.515625 \nz\n\" id=\"DejaVuSans-114\"/>\n     </defs>\n     <g transform=\"translate(443.298125 486.994375)scale(0.12 -0.12)\">\n      <use xlink:href=\"#DejaVuSans-78\"/>\n      <use x=\"74.804688\" xlink:href=\"#DejaVuSans-117\"/>\n      <use x=\"138.183594\" xlink:href=\"#DejaVuSans-109\"/>\n      <use x=\"235.595703\" xlink:href=\"#DejaVuSans-98\"/>\n      <use x=\"299.072266\" xlink:href=\"#DejaVuSans-101\"/>\n      <use x=\"360.595703\" xlink:href=\"#DejaVuSans-114\"/>\n     </g>\n    </g>\n   </g>\n   <g id=\"matplotlib.axis_2\">\n    <g id=\"ytick_1\">\n     <g id=\"line2d_10\">\n      <defs>\n       <path d=\"M 0 0 \nL -3.5 0 \n\" id=\"mf73b8bc9c0\" style=\"stroke:#000000;stroke-width:0.8;\"/>\n      </defs>\n      <g>\n       <use style=\"stroke:#000000;stroke-width:0.8;\" x=\"48.90125\" xlink:href=\"#mf73b8bc9c0\" y=\"393.778125\"/>\n      </g>\n     </g>\n     <g id=\"text_11\">\n      <!-- 110 -->\n      <g transform=\"translate(22.81375 397.577344)scale(0.1 -0.1)\">\n       <use xlink:href=\"#DejaVuSans-49\"/>\n       <use x=\"63.623047\" xlink:href=\"#DejaVuSans-49\"/>\n       <use x=\"127.246094\" xlink:href=\"#DejaVuSans-48\"/>\n      </g>\n     </g>\n    </g>\n    <g id=\"ytick_2\">\n     <g id=\"line2d_11\">\n      <g>\n       <use style=\"stroke:#000000;stroke-width:0.8;\" x=\"48.90125\" xlink:href=\"#mf73b8bc9c0\" y=\"303.178125\"/>\n      </g>\n     </g>\n     <g id=\"text_12\">\n      <!-- 120 -->\n      <g transform=\"translate(22.81375 306.977344)scale(0.1 -0.1)\">\n       <use xlink:href=\"#DejaVuSans-49\"/>\n       <use x=\"63.623047\" xlink:href=\"#DejaVuSans-50\"/>\n       <use x=\"127.246094\" xlink:href=\"#DejaVuSans-48\"/>\n      </g>\n     </g>\n    </g>\n    <g id=\"ytick_3\">\n     <g id=\"line2d_12\">\n      <g>\n       <use style=\"stroke:#000000;stroke-width:0.8;\" x=\"48.90125\" xlink:href=\"#mf73b8bc9c0\" y=\"212.578125\"/>\n      </g>\n     </g>\n     <g id=\"text_13\">\n      <!-- 130 -->\n      <g transform=\"translate(22.81375 216.377344)scale(0.1 -0.1)\">\n       <use xlink:href=\"#DejaVuSans-49\"/>\n       <use x=\"63.623047\" xlink:href=\"#DejaVuSans-51\"/>\n       <use x=\"127.246094\" xlink:href=\"#DejaVuSans-48\"/>\n      </g>\n     </g>\n    </g>\n    <g id=\"ytick_4\">\n     <g id=\"line2d_13\">\n      <g>\n       <use style=\"stroke:#000000;stroke-width:0.8;\" x=\"48.90125\" xlink:href=\"#mf73b8bc9c0\" y=\"121.978125\"/>\n      </g>\n     </g>\n     <g id=\"text_14\">\n      <!-- 140 -->\n      <g transform=\"translate(22.81375 125.777344)scale(0.1 -0.1)\">\n       <use xlink:href=\"#DejaVuSans-49\"/>\n       <use x=\"63.623047\" xlink:href=\"#DejaVuSans-52\"/>\n       <use x=\"127.246094\" xlink:href=\"#DejaVuSans-48\"/>\n      </g>\n     </g>\n    </g>\n    <g id=\"ytick_5\">\n     <g id=\"line2d_14\">\n      <g>\n       <use style=\"stroke:#000000;stroke-width:0.8;\" x=\"48.90125\" xlink:href=\"#mf73b8bc9c0\" y=\"31.378125\"/>\n      </g>\n     </g>\n     <g id=\"text_15\">\n      <!-- 150 -->\n      <g transform=\"translate(22.81375 35.177344)scale(0.1 -0.1)\">\n       <use xlink:href=\"#DejaVuSans-49\"/>\n       <use x=\"63.623047\" xlink:href=\"#DejaVuSans-53\"/>\n       <use x=\"127.246094\" xlink:href=\"#DejaVuSans-48\"/>\n      </g>\n     </g>\n    </g>\n    <g id=\"text_16\">\n     <!-- Count -->\n     <defs>\n      <path d=\"M 64.40625 67.28125 \nL 64.40625 56.890625 \nQ 59.421875 61.53125 53.78125 63.8125 \nQ 48.140625 66.109375 41.796875 66.109375 \nQ 29.296875 66.109375 22.65625 58.46875 \nQ 16.015625 50.828125 16.015625 36.375 \nQ 16.015625 21.96875 22.65625 14.328125 \nQ 29.296875 6.6875 41.796875 6.6875 \nQ 48.140625 6.6875 53.78125 8.984375 \nQ 59.421875 11.28125 64.40625 15.921875 \nL 64.40625 5.609375 \nQ 59.234375 2.09375 53.4375 0.328125 \nQ 47.65625 -1.421875 41.21875 -1.421875 \nQ 24.65625 -1.421875 15.125 8.703125 \nQ 5.609375 18.84375 5.609375 36.375 \nQ 5.609375 53.953125 15.125 64.078125 \nQ 24.65625 74.21875 41.21875 74.21875 \nQ 47.75 74.21875 53.53125 72.484375 \nQ 59.328125 70.75 64.40625 67.28125 \nz\n\" id=\"DejaVuSans-67\"/>\n      <path d=\"M 30.609375 48.390625 \nQ 23.390625 48.390625 19.1875 42.75 \nQ 14.984375 37.109375 14.984375 27.296875 \nQ 14.984375 17.484375 19.15625 11.84375 \nQ 23.34375 6.203125 30.609375 6.203125 \nQ 37.796875 6.203125 41.984375 11.859375 \nQ 46.1875 17.53125 46.1875 27.296875 \nQ 46.1875 37.015625 41.984375 42.703125 \nQ 37.796875 48.390625 30.609375 48.390625 \nz\nM 30.609375 56 \nQ 42.328125 56 49.015625 48.375 \nQ 55.71875 40.765625 55.71875 27.296875 \nQ 55.71875 13.875 49.015625 6.21875 \nQ 42.328125 -1.421875 30.609375 -1.421875 \nQ 18.84375 -1.421875 12.171875 6.21875 \nQ 5.515625 13.875 5.515625 27.296875 \nQ 5.515625 40.765625 12.171875 48.375 \nQ 18.84375 56 30.609375 56 \nz\n\" id=\"DejaVuSans-111\"/>\n      <path d=\"M 54.890625 33.015625 \nL 54.890625 0 \nL 45.90625 0 \nL 45.90625 32.71875 \nQ 45.90625 40.484375 42.875 44.328125 \nQ 39.84375 48.1875 33.796875 48.1875 \nQ 26.515625 48.1875 22.3125 43.546875 \nQ 18.109375 38.921875 18.109375 30.90625 \nL 18.109375 0 \nL 9.078125 0 \nL 9.078125 54.6875 \nL 18.109375 54.6875 \nL 18.109375 46.1875 \nQ 21.34375 51.125 25.703125 53.5625 \nQ 30.078125 56 35.796875 56 \nQ 45.21875 56 50.046875 50.171875 \nQ 54.890625 44.34375 54.890625 33.015625 \nz\n\" id=\"DejaVuSans-110\"/>\n      <path d=\"M 18.3125 70.21875 \nL 18.3125 54.6875 \nL 36.8125 54.6875 \nL 36.8125 47.703125 \nL 18.3125 47.703125 \nL 18.3125 18.015625 \nQ 18.3125 11.328125 20.140625 9.421875 \nQ 21.96875 7.515625 27.59375 7.515625 \nL 36.8125 7.515625 \nL 36.8125 0 \nL 27.59375 0 \nQ 17.1875 0 13.234375 3.875 \nQ 9.28125 7.765625 9.28125 18.015625 \nL 9.28125 47.703125 \nL 2.6875 47.703125 \nL 2.6875 54.6875 \nL 9.28125 54.6875 \nL 9.28125 70.21875 \nz\n\" id=\"DejaVuSans-116\"/>\n     </defs>\n     <g transform=\"translate(16.318125 257.57625)rotate(-90)scale(0.12 -0.12)\">\n      <use xlink:href=\"#DejaVuSans-67\"/>\n      <use x=\"69.824219\" xlink:href=\"#DejaVuSans-111\"/>\n      <use x=\"131.005859\" xlink:href=\"#DejaVuSans-117\"/>\n      <use x=\"194.384766\" xlink:href=\"#DejaVuSans-110\"/>\n      <use x=\"257.763672\" xlink:href=\"#DejaVuSans-116\"/>\n     </g>\n    </g>\n   </g>\n   <g id=\"line2d_15\">\n    <path clip-path=\"url(#pe58cef069d)\" d=\"M 67.923977 211.370125 \nL 866.878523 211.370125 \n\" style=\"fill:none;stroke:#000000;stroke-dasharray:5.55,2.4;stroke-dashoffset:0;stroke-width:1.5;\"/>\n   </g>\n   <g id=\"patch_48\">\n    <path d=\"M 48.90125 457.198125 \nL 48.90125 22.318125 \n\" style=\"fill:none;stroke:#000000;stroke-linecap:square;stroke-linejoin:miter;stroke-width:0.8;\"/>\n   </g>\n   <g id=\"patch_49\">\n    <path d=\"M 885.90125 457.198125 \nL 885.90125 22.318125 \n\" style=\"fill:none;stroke:#000000;stroke-linecap:square;stroke-linejoin:miter;stroke-width:0.8;\"/>\n   </g>\n   <g id=\"patch_50\">\n    <path d=\"M 48.90125 457.198125 \nL 885.90125 457.198125 \n\" style=\"fill:none;stroke:#000000;stroke-linecap:square;stroke-linejoin:miter;stroke-width:0.8;\"/>\n   </g>\n   <g id=\"patch_51\">\n    <path d=\"M 48.90125 22.318125 \nL 885.90125 22.318125 \n\" style=\"fill:none;stroke:#000000;stroke-linecap:square;stroke-linejoin:miter;stroke-width:0.8;\"/>\n   </g>\n   <g id=\"text_17\">\n    <!-- Number Frequency -->\n    <defs>\n     <path id=\"DejaVuSans-32\"/>\n     <path d=\"M 9.8125 72.90625 \nL 51.703125 72.90625 \nL 51.703125 64.59375 \nL 19.671875 64.59375 \nL 19.671875 43.109375 \nL 48.578125 43.109375 \nL 48.578125 34.8125 \nL 19.671875 34.8125 \nL 19.671875 0 \nL 9.8125 0 \nz\n\" id=\"DejaVuSans-70\"/>\n     <path d=\"M 14.796875 27.296875 \nQ 14.796875 17.390625 18.875 11.75 \nQ 22.953125 6.109375 30.078125 6.109375 \nQ 37.203125 6.109375 41.296875 11.75 \nQ 45.40625 17.390625 45.40625 27.296875 \nQ 45.40625 37.203125 41.296875 42.84375 \nQ 37.203125 48.484375 30.078125 48.484375 \nQ 22.953125 48.484375 18.875 42.84375 \nQ 14.796875 37.203125 14.796875 27.296875 \nz\nM 45.40625 8.203125 \nQ 42.578125 3.328125 38.25 0.953125 \nQ 33.9375 -1.421875 27.875 -1.421875 \nQ 17.96875 -1.421875 11.734375 6.484375 \nQ 5.515625 14.40625 5.515625 27.296875 \nQ 5.515625 40.1875 11.734375 48.09375 \nQ 17.96875 56 27.875 56 \nQ 33.9375 56 38.25 53.625 \nQ 42.578125 51.265625 45.40625 46.390625 \nL 45.40625 54.6875 \nL 54.390625 54.6875 \nL 54.390625 -20.796875 \nL 45.40625 -20.796875 \nz\n\" id=\"DejaVuSans-113\"/>\n     <path d=\"M 48.78125 52.59375 \nL 48.78125 44.1875 \nQ 44.96875 46.296875 41.140625 47.34375 \nQ 37.3125 48.390625 33.40625 48.390625 \nQ 24.65625 48.390625 19.8125 42.84375 \nQ 14.984375 37.3125 14.984375 27.296875 \nQ 14.984375 17.28125 19.8125 11.734375 \nQ 24.65625 6.203125 33.40625 6.203125 \nQ 37.3125 6.203125 41.140625 7.25 \nQ 44.96875 8.296875 48.78125 10.40625 \nL 48.78125 2.09375 \nQ 45.015625 0.34375 40.984375 -0.53125 \nQ 36.96875 -1.421875 32.421875 -1.421875 \nQ 20.0625 -1.421875 12.78125 6.34375 \nQ 5.515625 14.109375 5.515625 27.296875 \nQ 5.515625 40.671875 12.859375 48.328125 \nQ 20.21875 56 33.015625 56 \nQ 37.15625 56 41.109375 55.140625 \nQ 45.0625 54.296875 48.78125 52.59375 \nz\n\" id=\"DejaVuSans-99\"/>\n     <path d=\"M 32.171875 -5.078125 \nQ 28.375 -14.84375 24.75 -17.8125 \nQ 21.140625 -20.796875 15.09375 -20.796875 \nL 7.90625 -20.796875 \nL 7.90625 -13.28125 \nL 13.1875 -13.28125 \nQ 16.890625 -13.28125 18.9375 -11.515625 \nQ 21 -9.765625 23.484375 -3.21875 \nL 25.09375 0.875 \nL 2.984375 54.6875 \nL 12.5 54.6875 \nL 29.59375 11.921875 \nL 46.6875 54.6875 \nL 56.203125 54.6875 \nz\n\" id=\"DejaVuSans-121\"/>\n    </defs>\n    <g transform=\"translate(409.834063 16.318125)scale(0.12 -0.12)\">\n     <use xlink:href=\"#DejaVuSans-78\"/>\n     <use x=\"74.804688\" xlink:href=\"#DejaVuSans-117\"/>\n     <use x=\"138.183594\" xlink:href=\"#DejaVuSans-109\"/>\n     <use x=\"235.595703\" xlink:href=\"#DejaVuSans-98\"/>\n     <use x=\"299.072266\" xlink:href=\"#DejaVuSans-101\"/>\n     <use x=\"360.595703\" xlink:href=\"#DejaVuSans-114\"/>\n     <use x=\"401.708984\" xlink:href=\"#DejaVuSans-32\"/>\n     <use x=\"433.496094\" xlink:href=\"#DejaVuSans-70\"/>\n     <use x=\"490.90625\" xlink:href=\"#DejaVuSans-114\"/>\n     <use x=\"531.988281\" xlink:href=\"#DejaVuSans-101\"/>\n     <use x=\"593.511719\" xlink:href=\"#DejaVuSans-113\"/>\n     <use x=\"656.988281\" xlink:href=\"#DejaVuSans-117\"/>\n     <use x=\"720.367188\" xlink:href=\"#DejaVuSans-101\"/>\n     <use x=\"781.890625\" xlink:href=\"#DejaVuSans-110\"/>\n     <use x=\"845.269531\" xlink:href=\"#DejaVuSans-99\"/>\n     <use x=\"900.25\" xlink:href=\"#DejaVuSans-121\"/>\n    </g>\n   </g>\n  </g>\n </g>\n <defs>\n  <clipPath id=\"pe58cef069d\">\n   <rect height=\"434.88\" width=\"837\" x=\"48.90125\" y=\"22.318125\"/>\n  </clipPath>\n </defs>\n</svg>\n",
      "image/png": "[encoded data removed]"
     },
     "metadata": {
      "needs_background": "light"
     }
    }
   ],
   "metadata": {}
  },
  {
   "cell_type": "code",
   "execution_count": 291,
   "source": [
    "print(\" \"*20 + f\"From Draw #{firstDraw} to Draw #{mostRecentDraw}\")\n",
    "print(\"10 Most Common Numbers:\" + \" \"*20 + \"10 Least Common Numbers :\")\n",
    "for (n, freq), (n2, freq2) in zip(nums_counter.most_common(45)[:10], nums_counter.most_common(45)[:-11:-1]):\n",
    "    print(f\"#{n : >2}: {freq : >4} Times\", end=\" \"* 28)\n",
    "    print(f\"#{n2 : >2}: {freq2 : >4} Times\")"
   ],
   "outputs": [
    {
     "output_type": "stream",
     "name": "stdout",
     "text": [
      "                    From Draw #1 to Draw #976\n",
      "10 Most Common Numbers:                    10 Least Common Numbers :\n",
      "#34:  150 Times                            # 9:  104 Times\n",
      "#43:  143 Times                            #32:  111 Times\n",
      "#18:  142 Times                            #22:  112 Times\n",
      "#27:  141 Times                            #23:  116 Times\n",
      "#39:  141 Times                            #30:  118 Times\n",
      "#40:  141 Times                            #29:  119 Times\n",
      "#17:  140 Times                            #41:  120 Times\n",
      "#12:  140 Times                            #35:  120 Times\n",
      "# 1:  138 Times                            #28:  122 Times\n",
      "#14:  137 Times                            # 6:  123 Times\n"
     ]
    }
   ],
   "metadata": {}
  },
  {
   "cell_type": "code",
   "execution_count": 69,
   "source": [
    "query_winner_select = \"\"\"SELECT * FROM `WINNERS`\"\"\" # turn, win1, 2, 3, 4, 5\n",
    "query_prize_select = \"\"\"SELECT * FROM `PRIZES`\"\"\" # turn, prize1, 2, 3, 4, 5\n",
    "query_store_select = \"\"\"SELECT * FROM `STORES`\"\"\" # idx, turn, name, auto, firstPrize, address"
   ],
   "outputs": [],
   "metadata": {}
  },
  {
   "cell_type": "code",
   "execution_count": null,
   "source": [],
   "outputs": [],
   "metadata": {}
  }
 ],
 "metadata": {
  "orig_nbformat": 4,
  "language_info": {
   "name": "python",
   "version": "3.7.3",
   "mimetype": "text/x-python",
   "codemirror_mode": {
    "name": "ipython",
    "version": 3
   },
   "pygments_lexer": "ipython3",
   "nbconvert_exporter": "python",
   "file_extension": ".py"
  },
  "kernelspec": {
   "name": "python3",
   "display_name": "Python 3.7.3 64-bit ('base': conda)"
  },
  "interpreter": {
   "hash": "398dc28c06ad810e77de546bbdfa897a6ee0b83e59a5207339dda01a7843e01d"
  }
 },
 "nbformat": 4,
 "nbformat_minor": 2
}