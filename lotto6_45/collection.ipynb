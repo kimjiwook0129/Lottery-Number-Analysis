{
 "cells": [
  {
   "cell_type": "markdown",
   "source": [
    "# Collection\n",
    "- Determines what the most recent lottery draw was\n",
    "- Determines what the most recent lottery draw stored in the database is\n",
    "- Collects the winning numbers, # of winners, total prize money for the recent draws not stored in the database\n",
    "- Collects the stores' info where the 1st & 2nd place winners bought their tickets\n",
    "- Collected data get stored into 'lottery.db' database.\n",
    "\n",
    "The notebook is programmed to collect and store only the data that are currently not stored in the database but are present to be collected.<br>\n",
    "For example, if the lottery's most recent draw was 4149th and we have stored until 4146th in the database, then this notebook collects & saves 4147th to 4149th draws into the database by running it."
   ],
   "metadata": {}
  },
  {
   "cell_type": "markdown",
   "source": [
    "## Setup"
   ],
   "metadata": {}
  },
  {
   "cell_type": "code",
   "execution_count": 107,
   "source": [
    "import sys\n",
    "sys.path.append('..')"
   ],
   "outputs": [],
   "metadata": {}
  },
  {
   "cell_type": "code",
   "execution_count": 108,
   "source": [
    "import pandas as pd\n",
    "import requests\n",
    "import re\n",
    "from bs4 import BeautifulSoup\n",
    "from lib.progress_bar import progress_bar\n",
    "import sqlite3"
   ],
   "outputs": [],
   "metadata": {}
  },
  {
   "cell_type": "code",
   "execution_count": 109,
   "source": [
    "lotto_result_url = \"https://www.dhlottery.co.kr/gameResult.do?method=byWin\"\n",
    "lotto_result_draw = lotto_result_url + \"&drwNo=\"\n",
    "store_url = \"https://www.dhlottery.co.kr/store.do?method=topStore&pageGubun=L645&drwNo=\""
   ],
   "outputs": [],
   "metadata": {}
  },
  {
   "cell_type": "markdown",
   "source": [
    "## Most Recent Draw\n",
    "Let us determine what the most recent draw was in the real world."
   ],
   "metadata": {}
  },
  {
   "cell_type": "code",
   "execution_count": 110,
   "source": [
    "def recentDraw():\n",
    "    request = requests.get(lotto_result_url)\n",
    "    soup = BeautifulSoup(request.text, \"lxml\")\n",
    "    content = soup.find(\"meta\", {\"id\" : \"desc\", \"name\" : \"description\"})['content']\n",
    "    drawCount = re.compile(r'\\d+회')\n",
    "    mo = drawCount.search(content)\n",
    "    return int(mo.group()[:-1])"
   ],
   "outputs": [],
   "metadata": {}
  },
  {
   "cell_type": "code",
   "execution_count": 111,
   "source": [
    "mostRecent = recentDraw()\n",
    "print(f\"Most recent draw happend in the real world : {mostRecent}\")"
   ],
   "outputs": [
    {
     "output_type": "stream",
     "name": "stdout",
     "text": [
      "Most recent draw happend in the real world : 976\n"
     ]
    }
   ],
   "metadata": {}
  },
  {
   "cell_type": "markdown",
   "source": [
    "## Most Recent Draw in our Database\n",
    "Let us now determine what the most recent draw stored in our database is."
   ],
   "metadata": {}
  },
  {
   "cell_type": "code",
   "execution_count": 112,
   "source": [
    "db_path = \"lottery.db\"\n",
    "sql_draw_create = \"\"\"CREATE TABLE IF NOT EXISTS \n",
    "`DRAWS`(turn int, num_1 int, num_2 int, num_3 int, num_4 int, num_5 int, num_6 int, num_bonus int, UNIQUE(turn))\"\"\""
   ],
   "outputs": [],
   "metadata": {}
  },
  {
   "cell_type": "code",
   "execution_count": 113,
   "source": [
    "def recentDrawInDB(db_path):\n",
    "    con = sqlite3.connect(db_path)\n",
    "    cur = con.cursor()\n",
    "    cur.execute(sql_draw_create)\n",
    "    cur.execute(\"SELECT MAX(turn) FROM DRAWS\")\n",
    "    info = cur.fetchall()\n",
    "    con.commit()\n",
    "    con.close()\n",
    "    return int(info[0][0]) if info[0][0] else 0"
   ],
   "outputs": [],
   "metadata": {}
  },
  {
   "cell_type": "code",
   "execution_count": 114,
   "source": [
    "dbMostRecent = recentDrawInDB(db_path)\n",
    "print(f\"Most recent draw stored in our database : {dbMostRecent}\")"
   ],
   "outputs": [
    {
     "output_type": "stream",
     "name": "stdout",
     "text": [
      "Most recent draw stored in our database : 0\n"
     ]
    }
   ],
   "metadata": {}
  },
  {
   "cell_type": "markdown",
   "source": [
    "## Draws Data Collection\n",
    "The function below crawls over the Korean 6/45 lottery web html files and collects:\n",
    "- Winning Numbers (1st, 2nd, ... 6th) + Bonus #\n",
    "- \\# of Winners (1st Place, ... 5th Place)\n",
    "- Total Prize Money (1st Place, ... 5th Place)"
   ],
   "metadata": {}
  },
  {
   "cell_type": "code",
   "execution_count": 115,
   "source": [
    "def collectDraws(lst, start=dbMostRecent + 1, end=mostRecent):\n",
    "    if start > end:\n",
    "        print(f\"No new draw to be added.\")\n",
    "        return\n",
    "    print(f\"Collecting Draws from Draw #{start} to #{end}\")\n",
    "    for idx in range(start, end + 1):\n",
    "        progress_bar(idx - start, end - start + 1)\n",
    "        \n",
    "        draw = {'draw': idx}\n",
    "\n",
    "        req = requests.get(lotto_result_draw + str(idx))\n",
    "        soup = BeautifulSoup(req.text, 'lxml')\n",
    "\n",
    "        meta = soup.find(\"meta\", {\"id\" : \"desc\", \"name\" : \"description\"})['content']\n",
    "        first, last = re.compile(r'(\\d+,){4}\\d+'), re.compile('\\d+\\+\\d+')\n",
    "        first_mo, last_mo = first.search(meta), last.search(meta)\n",
    "        draw['nums'] = list(map(int, first_mo.group().split(',') + last_mo.group().split('+')))\n",
    "        \n",
    "        date = meta = soup.find(\"p\", {\"class\" : \"desc\"})\n",
    "        dateReg = re.compile(r'(\\d){4}년 (\\d){2}월 (\\d){2}')\n",
    "        mo = dateReg.search(str(date))\n",
    "        draw['date'] = [int(mo.group()[:4]), int(mo.group()[6:8]), int(mo.group()[-2:])]\n",
    "\n",
    "        total, winners = [], [0] * 5\n",
    "        table = soup.find(\"table\").find_all(\"td\", {\"class\":\"tar\"})\n",
    "        regex = re.compile(r'>\\d+.*원')\n",
    "        for i, c in enumerate(table):\n",
    "            mo = regex.search(str(c))\n",
    "            num = mo.group()[1:-1]\n",
    "            num = int(num.replace(\",\", \"\"))\n",
    "            if i % 2 == 0: total.append(num)\n",
    "            elif num > 0: winners[i // 2] = total[-1] // num\n",
    "        \n",
    "        draw['winners'] = winners\n",
    "        draw['prize'] = total\n",
    "        \n",
    "        lst.append(draw)\n",
    "    progress_bar(end, end)\n",
    "    \n",
    "    print(\"\")\n",
    "    print(\"Done Collecting Draws!\")"
   ],
   "outputs": [],
   "metadata": {}
  },
  {
   "cell_type": "code",
   "execution_count": 116,
   "source": [
    "draws = []\n",
    "collectDraws(lst=draws)"
   ],
   "outputs": [
    {
     "output_type": "stream",
     "name": "stdout",
     "text": [
      "Collecting Draws from Draw #1 to #976\n",
      "[====================================================================================================] 100%\n",
      "Done Collecting Draws!\n"
     ]
    }
   ],
   "metadata": {}
  },
  {
   "cell_type": "code",
   "execution_count": 117,
   "source": [
    "if len(draws) > 0:\n",
    "    print(f\"We have collected {len(draws)} draws\")\n",
    "    print(f\"First draw : {draws[0]}\")\n",
    "    print(f\"Last draw : {draws[-1]}\")\n",
    "else:\n",
    "    print(\"No additional draw collected.\")"
   ],
   "outputs": [
    {
     "output_type": "stream",
     "name": "stdout",
     "text": [
      "We have collected 976 draws\n",
      "First draw : {'draw': 1, 'nums': [10, 23, 29, 33, 37, 40, 16], 'date': [2002, 12, 7], 'winners': [0, 1, 28, 2537, 40155], 'prize': [0, 143934100, 143934000, 287695800, 401550000]}\n",
      "Last draw : {'draw': 976, 'nums': [4, 12, 14, 25, 35, 37, 2], 'date': [2021, 8, 14], 'winners': [7, 69, 3085, 142375, 2270249], 'prize': [22707070505, 3784511793, 3784514495, 7118750000, 11351245000]}\n"
     ]
    }
   ],
   "metadata": {}
  },
  {
   "cell_type": "markdown",
   "source": [
    "## Stores Data Collection\n",
    "The functions below crawl over the Korean 6/45 lottery web html files and collect:\n",
    "- Stores' names (1st & 2nd Place Winners)\n",
    "- Stores' addresses (1st & 2nd Place Winners)\n",
    "- Whether the winning # were chosen automatic or manual (1st Place Winners Only)"
   ],
   "metadata": {}
  },
  {
   "cell_type": "code",
   "execution_count": 118,
   "source": [
    "def parseStores(content, win = 1):\n",
    "    stores = []\n",
    "    rows = content.find_all(\"tr\")\n",
    "    reg, regGen = re.compile(r'>.*<'), re.compile(r'[가-힣]+')\n",
    "\n",
    "    for r in rows:\n",
    "      tds = r.find_all('td')[1:4]\n",
    "      if win == 2: tds = tds[:-1]\n",
    "      store = []\n",
    "      for i, td in enumerate(tds):\n",
    "        if win == 1 and i == 1: td = str(regGen.search(str(td)).group())\n",
    "        else: td = str(reg.search(str(td)).group()[1:-1])\n",
    "        td = td.strip()\n",
    "        store.append(td)\n",
    "      stores.append(store)\n",
    "    return stores"
   ],
   "outputs": [],
   "metadata": {}
  },
  {
   "cell_type": "code",
   "execution_count": 119,
   "source": [
    "sql_store_create = \"\"\"CREATE TABLE IF NOT EXISTS \n",
    "`STORES`(idx int, turn int, name varchar(255), auto BOOLEAN, firstPrize BOOLEAN, address varchar(255), UNIQUE(idx))\"\"\""
   ],
   "outputs": [],
   "metadata": {}
  },
  {
   "cell_type": "code",
   "execution_count": 120,
   "source": [
    "def dbStoresMostRecent(db_path):\n",
    "    con = sqlite3.connect(db_path)\n",
    "    cur = con.cursor()\n",
    "    cur.execute(sql_store_create)\n",
    "    cur.execute(\"SELECT MAX(turn) FROM STORES\")\n",
    "    info = cur.fetchall()\n",
    "    con.commit()\n",
    "    con.close()\n",
    "    return int(info[0][0]) if info[0][0] else 923"
   ],
   "outputs": [],
   "metadata": {}
  },
  {
   "cell_type": "code",
   "execution_count": 121,
   "source": [
    "dbStoresMostRecent = dbStoresMostRecent(db_path)"
   ],
   "outputs": [],
   "metadata": {}
  },
  {
   "cell_type": "code",
   "execution_count": 122,
   "source": [
    "##### 924회부터 제공\n",
    "def collectLocations(lst, start=dbStoresMostRecent + 1, end=mostRecent):\n",
    "    if start > end:\n",
    "        print(f\"No new draws to be added.\")\n",
    "        return\n",
    "    if start < 924:\n",
    "        print(\"Stores information is available since 924th draw.\")\n",
    "        return\n",
    "    print(f\"Collecting Locations from Draw #{start} to #{end}\")\n",
    "\n",
    "    table_class = \"tbl_data tbl_data_col\"\n",
    "\n",
    "    for idx in range(start, end + 1):\n",
    "        progress_bar(idx - start, end - start + 1)\n",
    "\n",
    "        locations = {'draw': idx}\n",
    "        idx_url = store_url + str(idx)\n",
    "\n",
    "        soup = BeautifulSoup(requests.get(idx_url).text, 'lxml')\n",
    "        tables = soup.find_all(\"table\", {\"class\":table_class})\n",
    "        tables = [x.find('tbody') for x in tables]\n",
    "\n",
    "        locations['first'] = parseStores(content = tables[0])\n",
    "        secondLocations = parseStores(content = tables[1], win = 2)\n",
    "\n",
    "        maxPage = len(soup.find('div', {\"id\": \"page_box\"}).find_all('a'))\n",
    "        for p in range(2, maxPage + 1):\n",
    "            soup = BeautifulSoup(requests.get(idx_url + \"&nowPage=\" + str(p)).text, 'lxml')\n",
    "            tables = soup.find_all(\"table\", {\"class\":table_class})\n",
    "            tables = [x.find('tbody') if i == 1 else None for i, x in enumerate(tables)]\n",
    "            secondLocations.extend(parseStores(content = tables[1], win = 2))\n",
    "        locations['second'] = secondLocations\n",
    "        lst.append(locations)\n",
    "    progress_bar(end, end)\n",
    "    print(\"\")\n",
    "    print(\"Done Collecting Locations!\")"
   ],
   "outputs": [],
   "metadata": {}
  },
  {
   "cell_type": "code",
   "execution_count": 123,
   "source": [
    "stores = []\n",
    "collectLocations(lst=stores)"
   ],
   "outputs": [
    {
     "output_type": "stream",
     "name": "stdout",
     "text": [
      "Collecting Locations from Draw #924 to #976\n",
      "[====================================================================================================] 100%\n",
      "Done Collecting Locations!\n"
     ]
    }
   ],
   "metadata": {}
  },
  {
   "cell_type": "code",
   "execution_count": 124,
   "source": [
    "if len(stores) > 0:\n",
    "    print(f\"We have collected {len(stores)} draws\")\n",
    "    print(f\"First Set : {stores[0]}\")\n",
    "    print(f\"Last Set : {stores[-1]}\")\n",
    "else:\n",
    "    print(\"No additional stores collected.\")"
   ],
   "outputs": [
    {
     "output_type": "stream",
     "name": "stdout",
     "text": [
      "We have collected 53 draws\n",
      "First Set : {'draw': 924, 'first': [['복권백화점', '자동', '서울 마포구 월드컵로 157'], ['CU(초읍대공원점)', '자동', '부산 부산진구 성지로 160 목화빌딩'], ['이마트24 광안리굿-7', '수동', '부산 수영구 광안로 49'], ['우리들공업탑점', '자동', '울산 남구 수암로 11'], ['지화자', '자동', '경기 성남시 수정구 위례광장로 328 1층 116호(창곡동, 우성위례타워)'], ['복권백화점', '자동', '경기 파주시 평화로 70'], ['행운복권방', '자동', '경기 포천시 솔모루로 86-1'], ['로또복권방', '자동', '충남 당진시 반촌로 199'], ['로또명당인주점', '자동', '충남 아산시 서해로 519-2']], 'second': [['씨유역삼에클라트로또판매점', '서울 강남구 테헤란로20길 19 엘지에클라트 1층 씨유역삼에클라트점'], ['로또카페', '서울 강서구 강서로74길 3 가양빌딩 1층 6호'], ['로또복권', '서울 노원구 상계동 649-7번지 다모아빌딩103'], ['스파', '서울 노원구 동일로 1493 상계주공아파트(10단지) 주공10단지종합상가111'], ['웨이스탑(전농점)', '서울 동대문구 전농로 129,(전농동)'], ['연초2호 쇼케이스7호', '서울 서초구 신반포로 194 강남고속버스터미널 쇼케이스7호'], ['인터넷 복권판매사이트', '동행복권(dhlottery.co.kr)'], ['인터넷 복권판매사이트', '동행복권(dhlottery.co.kr)'], ['인터넷 복권판매사이트', '동행복권(dhlottery.co.kr)'], ['인터넷 복권판매사이트', '동행복권(dhlottery.co.kr)'], ['버스카드충전소', '서울 서초구 신반포로 205 반포쇼핑타운 6동쇼핑앞'], ['훼미리24', '서울 성동구 아차산로11길 26'], ['잠실매점', '서울 송파구 올림픽로 269 잠실역 8번출구 앞 가판'], ['미래상사', '서울 송파구 오금로 534 104호'], ['가판점(신문)', '서울 영등포구 양평로 48'], ['신암편의점', '부산 금정구 중앙대로 2002 복권판매점'], ['로또복권', '부산 남구 신선로 317-1'], ['로또판매점', '부산 남구 석포로 41 동아일보'], ['장림나눔로또복권', '부산 사하구 장림로 228 1층'], ['대박골드', '부산 중구 흑교로 51 1층 101호'], ['일등복권편의점', '대구 달서구 대명천로 220 1층'], ['희망복권방', '인천 계양구 효서로 293'], ['행운복권', '인천 미추홀구 길파로35번길 2 종합전기전자 맞은편'], ['우리동네마트(무한유통)', '광주 광산구 장신로 68  101호'], ['로또타운점', '대전 대덕구 우암로 466'], ['진플러스안경', '대전 중구 대종로 301-1'], ['노다지복권방', '울산 울주군 온양읍 태화8길 57,(운화리)'], ['오덕복권나라', '경기 광주시 회덕동 274-1'], ['드림복권방', '경기 남양주시 다산중앙로123번길 21-3 104호'], ['금곡가판', '경기 남양주시 금곡로 72 센타프라자'], ['역곡중앙슈퍼', '경기 부천시 부일로 724'], ['복권나라', '경기 수원시 장안구 장안로 288 수단란주점 1층'], ['종합복권슈퍼', '경기 시흥시 마유로 336 정일빌딩104'], ['아름드리(쉬어가기)', '경기 시흥시 목감중앙로 20 시흥목감엘에이치7단지'], ['오이도직판장마트', '경기 시흥시 오이도로 167 오이도이주단지B'], ['송가상사', '경기 안산시 단원구 중앙대로 462 안산역사쇼핑몰1층131-3호'], ['명당복권방', '경기 용인시 처인구 백암로201번길 15'], ['터미널유통마트', '경기 의정부시 신곡로 47 우신프라자1층101호'], ['행운로또복권방', '경기 파주시 광탄면 신산1리 215-20번지'], ['복권백화점', '경기 파주시 평화로 70'], ['잘찍어로또방', '경기 평택시 안현로서5길 62'], ['행복드림', '경기 화성시 메타폴리스로 42 디앤씨빌딩 104호'], ['로또판매점', '강원 삼척시 삼척로 425 1층 CU삼척호산점'], ['국가대표복권방', '강원 영월군 영월읍 중앙로 68 1층'], ['창원편의점', '강원 원주시 모란1길 69 1층'], ['행운복권방', '강원 인제군 북면 금강로 23 1층'], ['백억만로또', '강원 춘천시 퇴계로  15 7B-3L'], ['드림오피스문구', '강원 춘천시 퇴계로 213'], ['행복한로또', '강원 평창군 경강로 1652 1층'], ['로또나라', '충남 보령시 구시4길 40 세븐일레븐 보령구시점'], ['잉크와복권방', '충남 천안시 동남구 차돌로 84'], ['대박찬스', '전북 군산시 칠성로 164'], ['현텔레콤', '전북 전주시 덕진구 아중로 142'], ['현텔레콤', '전북 전주시 덕진구 아중로 142'], ['행운복권나라', '전남 광양시 대림오성로 146-1'], ['행복나눔', '전남 담양군 무정로 42'], ['신안비치아파트3차슈퍼', '전남 목포시 고하대로 641-9,(산정동, 신안비치3차아파트)'], ['GS25(경산사동점)', '경북 경산시 삼풍로2길 1'], ['부흥청과식품점', '경북 경산시 하양읍 하양로 35 우방3차상가'], ['역전로또', '경북 경주시 원화로 260 1층 짐케어내'], ['세븐일레븐영주가흥로또점', '경북 영주시 대학로 144,(가흥동)'], ['치산로또명당', '경북 영천시 충효로 118,(야사동)'], ['GS25(칠곡북삼점)', '경북 칠곡군 북삼읍 금오대로2길 59,(인평리)'], ['CU(두호점)', '경북 포항시 북구 삼호로 247,(두호동)'], ['복권판매점', '경남 거제시 거제대로 3441 지하1층'], ['진영로또판매점', '경남 김해시 진영읍 진영로 189-2'], ['GS25(김해가야점)', '경남 김해시 김해대로2355번길 31,(부원동)'], ['양산황금나눔', '경남 양산시 황산로 395 복권판매점'], ['삼양로또방 삼양점방', '제주 제주시 일주동로 382-1']]}\n",
      "Last Set : {'draw': 976, 'first': [['제이복권방', '수동', '서울 종로구 종로 225-1 평창빌딩 1층 103호'], ['청솔서점', '자동', '부산 사하구 하신번영로 195,(신평동)'], ['천하명당복권', '자동', '대구 북구 동북로 152,(산격동)'], ['차밍플라워 로또', '자동', '광주 광산구 풍영로 41 동구빌딩1층'], ['바로전산', '자동', '경기 광명시 오리로 998-1 101호'], ['왕대박복권', '수동', '강원 속초시 번영로 142 1층, 102호'], ['애월한담일등로또복권판매점', '수동', '제주 제주시 애월로 66']], 'second': [['복드림복권방', '서울 강동구 상암로 99'], ['일등복권', '서울 강서구 초원로 83 101호'], ['복권나라', '서울 관악구 남부순환로 1739-9'], ['토큰판매소', '서울 광진구 구의강변로 42'], ['시흥식품', '서울 금천구 시흥대로63길 13 1층'], ['스파', '서울 노원구 동일로 1493 상계주공아파트(10단지) 주공10단지종합상가111'], ['그랜드마트앞가판점', '서울 마포구 신촌로 94'], ['대박복권', '서울 성북구 장월로 103 1층'], ['교통카드판매대', '서울 송파구 송파대로28길 27 송파성원쌍떼빌 공영주차장앞가판'], ['치즈마트', '서울 송파구 양재대로 932 가락동농수산물도매시장 가락몰 2관 1층 2-1호'], ['복권백화점', '서울 은평구 연서로29길 7-2 1층'], ['로또', '서울 중구 퇴계로86길 42,(신당동)'], ['로또복권방', '서울 중구 마른내로 21,(저동2가)'], ['승보슈퍼', '서울 중구 마장로9길 49-19'], ['씨스페이스(범어사역점)', '부산 금정구 중앙대로 2097,(남산동)'], ['천하명당초량점', '부산 동구 중앙대로221번길 3'], ['사이버정보통신', '부산 부산진구 동평로 409 백조상가동103-1호'], ['성광복권명당', '부산 연제구 과정로 335'], ['씨스페이스(영도대평점)', '부산 영도구 태종로 64-1 대교동 사거리'], ['GS로또(남대구IC점)', '대구 달서구 성서공단로 346 대구물류터미널 상가동 108-110호 1층 GS25편의점'], ['세진전자통신', '대구 서구 서대구로 156,(평리동)'], ['로또명당', '인천 남동구 호구포로 874'], ['풍인식품', '인천 남동구 남동대로934번길 13 2호'], ['노다지복권방진월점', '광주 남구 서문대로 649 백두장식 1층2호'], ['샹제르망베어커리', '광주 북구 북문대로159번길  25 샹제르망베이커리내'], ['새상무복권', '광주 서구 치평로 30 수암빌딩 1층 102호'], ['로또명당 황금돼지', '대전 중구 계백로 1691-10'], ['보람복권방', '울산 남구 화합로 194 18-1'], ['로또복권', '울산 남구 꽃대나리로 71'], ['황제복권', '울산 남구 수암로 42'], ['원흥나눔로또', '경기 고양시 덕양구 도래울3로 4 몽블랑타워 101호'], ['로또세계주류', '경기 광명시 오리로 899-1'], ['GS25(하안연서점)', '경기 광명시 안현로 52 중앙상가'], ['환영로또복권', '경기 군포시 금산로72번길 9 1층(산본동)'], ['100억로또점', '경기 김포시 양촌읍 김포대로 1610 나동 6호'], ['로또도곡점', '경기 남양주시 덕소로 277 1층 복권판매점'], ['세희사랑방', '경기 남양주시 경춘로1350번길 35 리치플러스빌딩 110'], ['로또암반수베팅샵', '경기 남양주시 와부읍 수레로 32,(덕소리)'], ['탑드림', '경기 성남시 분당구 새마을로1번길 2  1층 커피숍앞쪽가게'], ['노다지복권방', '경기 성남시 수정구 위례광장로 34 위례역푸르지오5단지 근린생활시설 제3동 1층 제5비 119호'], ['대왕판교로점', '경기 성남시 수정구 대왕판교로 812  B104, B105'], ['부현제일명당', '경기 시흥시 정왕시장길 26-1 102호'], ['로또휴게실', '경기 용인시 기흥구 용구대로 1885'], ['대박나라', '경기 용인시 처인구 포곡로234번길 2-14'], ['씨유 용인포곡둔전점', '경기 용인시 처인구 포곡로118번길 26-1 유성시티빌 103호'], ['행운복권방', '경기 의정부시 충의로 55'], ['일등복권방', '경기 의정부시 용민로 9'], ['대박복권방', '경기 파주시 문산읍 문향로 39'], ['복권백화점', '경기 파주시 평화로 70'], ['나눔로또', '경기 화성시 상신하길로274번길 21 서봉마을사랑으로부영7단지아파트 상가1동 104,105,106호'], ['행운의시작복권전문점', '강원 삼척시 사대안길 5 8통1반'], ['복덩어리', '충북 청주시 서원구 호국로25번길 1'], ['스타복권방', '충남 논산시 안심로 72'], ['장미슈퍼', '충남 부여군 부여읍 계백로 265 부여군청 로터리 부근'], ['로또명당', '충남 천안시 동남구 목천읍 천안대로 103 5호'], ['로또복권두정점', '충남 천안시 서북구 두정로 251 대원빌딩104호'], ['황금열쇠금고', '전남 목포시 영산로 135'], ['CU(화순중앙점)', '전남 화순군 화순읍 중앙로 92,(만연리)'], ['부엉이로또명당', '경북 구미시 인동36길 15 구평메디칼센터 104호'], ['에버빌마트', '경북 안동시 강남5길 92,(정하동, 현진에버빌1차)'], ['천하명당복권방', '경남 거제시 옥포성안로 60'], ['복슈퍼', '경남 김해시 가야로 19 분성마을5단지푸르지오아파트 푸르지오상가 111호 복권판매점'], ['천하명당', '경남 양산시 연호로 46 복권판매점'], ['제일복권', '경남 양산시 양산역2길 7 대상골드타워 103호 복권판매점'], ['새롬(GS25마산새롬점)', '경남 창원시 마산합포구 수산1길 181 새롬미리내아파트 새롬미리내상가113호'], ['블루25복권명당대원점', '경남 창원시 성산구 두대로 57'], ['행복복권방', '경남 창원시 의창구 팔용로 399,(팔용동)'], ['행운마트', '경남 함안군 칠원읍 오곡로 92'], ['마법사복권방', '제주 서귀포시 동홍중앙로52번길 13 하이PC방']]}\n"
     ]
    }
   ],
   "metadata": {}
  },
  {
   "cell_type": "markdown",
   "source": [
    "## Raw Data to the Database\n",
    "Insert each draws' data and stores' data to 'DRAWS' & 'STORES' tables in lottery.db'."
   ],
   "metadata": {}
  },
  {
   "cell_type": "code",
   "execution_count": 125,
   "source": [
    "sql_draw = \"\"\"INSERT INTO `DRAWS`(`turn`, `num_1`, `num_2`, `num_3`, `num_4`, `num_5`, `num_6`, `num_bonus`)\n",
    "VALUES(?, ?, ?, ?, ?, ?, ?, ?)\"\"\"\n",
    "sql_winner_create = \"\"\"CREATE TABLE IF NOT EXISTS \n",
    "`WINNERS`(turn int, winner_1 int, winner_2 int, winner_3 int, winner_4 int, winner_5 int, UNIQUE(turn))\"\"\"\n",
    "sql_winner = \"\"\"INSERT INTO `WINNERS`(`turn`, `winner_1`, `winner_2`, `winner_3`, `winner_4`, `winner_5`)\n",
    "VALUES(?, ?, ?, ?, ?, ?)\"\"\"\n",
    "sql_prize_create = \"\"\"CREATE TABLE IF NOT EXISTS \n",
    "`PRIZES`(turn int, prize_1 int, prize_2 int, prize_3 int, prize_4 int, prize_5 int, UNIQUE(turn))\"\"\"\n",
    "sql_prize = \"\"\"INSERT INTO `PRIZES`(`turn`, `prize_1`, `prize_2`, `prize_3`, `prize_4`, `prize_5`)\n",
    "VALUES(?, ?, ?, ?, ?, ?)\"\"\"\n",
    "sql_date_create = \"\"\"CREATE TABLE IF NOT EXISTS `DATES`(turn int, year int, month int, day int, UNIQUE(turn))\"\"\"\n",
    "sql_date = \"\"\"INSERT INTO `DATES`(`turn`, `year`, `month`, `day`) VALUES(?, ?, ?, ?)\"\"\"\n",
    "sql_store = \"\"\"INSERT INTO `STORES`(`idx`, `turn`, `name`, `auto`, `firstPrize`, `address`) \n",
    "VALUES(?, ?, ?, ?, ?, ?)\"\"\""
   ],
   "outputs": [],
   "metadata": {}
  },
  {
   "cell_type": "code",
   "execution_count": 126,
   "source": [
    "def rawToDB(draws, stores, db_path):\n",
    "    con = sqlite3.connect(db_path)\n",
    "    cur = con.cursor()\n",
    "    if len(draws) < 1 or len(stores) < 1:\n",
    "        print(\"No additional data to be added to the database.\")\n",
    "        return\n",
    "\n",
    "    cur.execute(sql_draw_create)\n",
    "    cur.execute(sql_winner_create)\n",
    "    cur.execute(sql_prize_create)\n",
    "    cur.execute(sql_date_create)\n",
    "    cur.execute(sql_store_create)\n",
    "\n",
    "    for draw_info in draws:\n",
    "        draw = draw_info[\"draw\"]\n",
    "        nums = draw_info[\"nums\"]\n",
    "        winners = draw_info[\"winners\"]\n",
    "        prizes = draw_info[\"prize\"]\n",
    "        dates = draw_info[\"date\"]\n",
    "\n",
    "        data = tuple([draw] + [int(n) for n in nums])\n",
    "        cur.execute(sql_draw, data)\n",
    "        data = tuple([draw] + [int(n) for n in winners])\n",
    "        cur.execute(sql_winner, data)\n",
    "        data = tuple([draw] + [int(n) for n in prizes])\n",
    "        cur.execute(sql_prize, data)\n",
    "        data = tuple([draw] + [int(n) for n in dates])\n",
    "        cur.execute(sql_date, data)\n",
    "        \n",
    "    row_idx = 0\n",
    "    for stores_info in stores:\n",
    "        draw = stores_info[\"draw\"] \n",
    "        for i in stores_info[\"first\"]:\n",
    "            data = tuple([row_idx, draw, str(i[0]), \\\n",
    "                1 if str(i[1]).strip() == \"자동\" else 0 \n",
    "                , 1, str(i[-1])])\n",
    "            cur.execute(sql_store, data)\n",
    "            row_idx += 1\n",
    "        for i in stores_info[\"second\"]:\n",
    "            data = tuple([row_idx, draw, str(i[0]), None, 0, str(i[-1])])\n",
    "            cur.execute(sql_store, data)\n",
    "            row_idx += 1\n",
    "    con.commit()\n",
    "    con.close()"
   ],
   "outputs": [],
   "metadata": {}
  },
  {
   "cell_type": "code",
   "execution_count": 127,
   "source": [
    "rawToDB(draws, stores, db_path)"
   ],
   "outputs": [],
   "metadata": {}
  }
 ],
 "metadata": {
  "orig_nbformat": 4,
  "language_info": {
   "name": "python",
   "version": "3.7.3",
   "mimetype": "text/x-python",
   "codemirror_mode": {
    "name": "ipython",
    "version": 3
   },
   "pygments_lexer": "ipython3",
   "nbconvert_exporter": "python",
   "file_extension": ".py"
  },
  "kernelspec": {
   "name": "python3",
   "display_name": "Python 3.7.3 64-bit ('base': conda)"
  },
  "interpreter": {
   "hash": "398dc28c06ad810e77de546bbdfa897a6ee0b83e59a5207339dda01a7843e01d"
  }
 },
 "nbformat": 4,
 "nbformat_minor": 2
}