{
 "cells": [
  {
   "cell_type": "markdown",
   "source": [
    "# Collection\n",
    "- Determines what the most recent lottery draw was\n",
    "- Determines what the most recent lottery draw stored in the database is\n",
    "- Collects the winning numbers, # of winners, total prize money for the recent draws not stored in the database\n",
    "- Collects the stores' info where the 1st & 2nd place winners bought their tickets\n",
    "- Collected data get stored into 'lottery.db' database.\n",
    "\n",
    "The notebook is programmed to collect and store only the data that are currently not stored in the database but are present to be collected.<br>\n",
    "For example, if the lottery's most recent draw was 4149th and we have stored until 4146th in the database, then this notebook collects & saves 4147th to 4149th draws into the database by running it."
   ],
   "metadata": {}
  },
  {
   "cell_type": "markdown",
   "source": [
    "## Setup"
   ],
   "metadata": {}
  },
  {
   "cell_type": "code",
   "execution_count": 69,
   "source": [
    "import sys\n",
    "sys.path.append('..')"
   ],
   "outputs": [],
   "metadata": {}
  },
  {
   "cell_type": "code",
   "execution_count": 70,
   "source": [
    "import pandas as pd\n",
    "import requests\n",
    "import re\n",
    "from bs4 import BeautifulSoup\n",
    "from lib.progress_bar import progress_bar\n",
    "import json\n",
    "import sqlite3"
   ],
   "outputs": [],
   "metadata": {}
  },
  {
   "cell_type": "code",
   "execution_count": 71,
   "source": [
    "lotto_result_url = \"https://www.dhlottery.co.kr/gameResult.do?method=byWin\"\n",
    "lotto_result_draw = lotto_result_url + \"&drwNo=\"\n",
    "store_url = \"https://www.dhlottery.co.kr/store.do?method=topStore&pageGubun=L645&drwNo=\""
   ],
   "outputs": [],
   "metadata": {}
  },
  {
   "cell_type": "markdown",
   "source": [
    "## Most Recent Draw\n",
    "Let us determine what the most recent draw was in the real world."
   ],
   "metadata": {}
  },
  {
   "cell_type": "code",
   "execution_count": 97,
   "source": [
    "def recentDraw():\n",
    "    request = requests.get(lotto_result_url)\n",
    "    soup = BeautifulSoup(request.text, \"lxml\")\n",
    "    content = soup.find(\"meta\", {\"id\" : \"desc\", \"name\" : \"description\"})['content']\n",
    "    drawCount = re.compile(r'\\d+회')\n",
    "    mo = drawCount.search(content)\n",
    "    return int(mo.group()[:-1])"
   ],
   "outputs": [],
   "metadata": {}
  },
  {
   "cell_type": "code",
   "execution_count": 102,
   "source": [
    "mostRecent = recentDraw()\n",
    "print(f\"Most recent draw happend in the real world : {mostRecent}\")"
   ],
   "outputs": [
    {
     "output_type": "stream",
     "name": "stdout",
     "text": [
      "Latest draw happend in the real world : 976\n"
     ]
    }
   ],
   "metadata": {}
  },
  {
   "cell_type": "markdown",
   "source": [
    "## Most Recent Draw in our Database\n",
    "Let us now determine what the most recent draw stored in our database is."
   ],
   "metadata": {}
  },
  {
   "cell_type": "code",
   "execution_count": 108,
   "source": [
    "db_path = \"lottery.db\""
   ],
   "outputs": [],
   "metadata": {}
  },
  {
   "cell_type": "code",
   "execution_count": 109,
   "source": [
    "def recentDrawInDB(db_path):\n",
    "    con = sqlite3.connect(db_path)\n",
    "    cur = con.cursor()\n",
    "    cur.execute(\"SELECT MAX(turn) FROM DRAWS\")\n",
    "    info = cur.fetchall()\n",
    "    con.commit()\n",
    "    con.close()\n",
    "    return int(info[0][0])"
   ],
   "outputs": [],
   "metadata": {}
  },
  {
   "cell_type": "code",
   "execution_count": 110,
   "source": [
    "dbMostRecent = recentDrawInDB(db_path)\n",
    "print(f\"Most recent draw stored in our database : {dbMostRecent}\")"
   ],
   "outputs": [
    {
     "output_type": "stream",
     "name": "stdout",
     "text": [
      "Most recent draw stored in our database : 976\n"
     ]
    }
   ],
   "metadata": {}
  },
  {
   "cell_type": "markdown",
   "source": [
    "## Draws Data Collection\n",
    "The function below crawls over the Korean 6/45 lottery web html files and collects:\n",
    "- Winning Numbers (1st, 2nd, ... 6th) + Bonus #\n",
    "- \\# of Winners (1st Place, ... 5th Place)\n",
    "- Total Prize Money (1st Place, ... 5th Place)"
   ],
   "metadata": {}
  },
  {
   "cell_type": "code",
   "execution_count": 79,
   "source": [
    "def collectDraws(lst, start=dbMostRecent + 1, end=mostRecent):\n",
    "    if start > end:\n",
    "        print(f\"No new draw to be added.\")\n",
    "        return\n",
    "    print(f\"Collecting Locations from Draw #{start} to #{end}\")\n",
    "    for idx in range(start, end + 1):\n",
    "        progress_bar(idx - start, end - start + 1)\n",
    "        \n",
    "        draw = {'draw': idx}\n",
    "\n",
    "        req = requests.get(lotto_result_draw + str(idx))\n",
    "        soup = BeautifulSoup(req.text, 'lxml')\n",
    "\n",
    "        meta = soup.find(\"meta\", {\"id\" : \"desc\", \"name\" : \"description\"})['content']\n",
    "        first, last = re.compile(r'(\\d+,){4}\\d+'), re.compile('\\d+\\+\\d+')\n",
    "        first_mo, last_mo = first.search(meta), last.search(meta)\n",
    "        draw['nums'] = list(map(int, first_mo.group().split(',') + last_mo.group().split('+')))\n",
    "\n",
    "        total, winners = [], [0] * 5\n",
    "        table = soup.find(\"table\").find_all(\"td\", {\"class\":\"tar\"})\n",
    "        regex = re.compile(r'>\\d+.*원')\n",
    "        for i, c in enumerate(table):\n",
    "            mo = regex.search(str(c))\n",
    "            num = mo.group()[1:-1]\n",
    "            num = int(num.replace(\",\", \"\"))\n",
    "            if i % 2 == 0: total.append(num)\n",
    "            elif num > 0: winners[i // 2] = total[-1] // num\n",
    "        \n",
    "        draw['winners'] = winners\n",
    "        draw['price'] = total\n",
    "        \n",
    "        lst.append(draw)\n",
    "    progress_bar(end, end)\n",
    "    print(\"\")\n",
    "    print(\"Done Collecting Draws!\")"
   ],
   "outputs": [],
   "metadata": {}
  },
  {
   "cell_type": "code",
   "execution_count": 80,
   "source": [
    "draws = []\n",
    "collectDraws(lst=draws)"
   ],
   "outputs": [
    {
     "output_type": "stream",
     "name": "stdout",
     "text": [
      "No new draw to be added.\n"
     ]
    }
   ],
   "metadata": {}
  },
  {
   "cell_type": "code",
   "execution_count": 84,
   "source": [
    "if len(draws) > 0:\n",
    "    print(f\"We have collected {len(draws)} draws\")\n",
    "    print(f\"First draw : {draws[0]}\")\n",
    "    print(f\"Last draw : {draws[-1]}\")\n",
    "else:\n",
    "    print(\"No additional draw collected.\")"
   ],
   "outputs": [
    {
     "output_type": "stream",
     "name": "stdout",
     "text": [
      "No additional draw collected.\n"
     ]
    }
   ],
   "metadata": {}
  },
  {
   "cell_type": "markdown",
   "source": [
    "## Stores Data Collection\n",
    "The functions below crawl over the Korean 6/45 lottery web html files and collect:\n",
    "- Stores' names (1st & 2nd Place Winners)\n",
    "- Stores' addresses (1st & 2nd Place Winners)\n",
    "- Whether the winning # were chosen automatic or manual (1st Place Winners Only)"
   ],
   "metadata": {}
  },
  {
   "cell_type": "code",
   "execution_count": 85,
   "source": [
    "def parseStores(content, win = 1):\n",
    "    stores = []\n",
    "    rows = content.find_all(\"tr\")\n",
    "    reg, regGen = re.compile(r'>.*<'), re.compile(r'[가-힣]+')\n",
    "\n",
    "    for r in rows:\n",
    "      tds = r.find_all('td')[1:4]\n",
    "      if win == 2: tds = tds[:-1]\n",
    "      store = []\n",
    "      for i, td in enumerate(tds):\n",
    "        if win == 1 and i == 1: td = str(regGen.search(str(td)).group())\n",
    "        else: td = str(reg.search(str(td)).group()[1:-1])\n",
    "        td = td.strip()\n",
    "        store.append(td)\n",
    "      stores.append(store)\n",
    "    return stores"
   ],
   "outputs": [],
   "metadata": {}
  },
  {
   "cell_type": "code",
   "execution_count": 86,
   "source": [
    "##### 924회부터 제공\n",
    "def collectLocations(lst, start=dbMostRecent + 1, end=mostRecent):\n",
    "    if start > end:\n",
    "        print(f\"No new draws to be added.\")\n",
    "        return\n",
    "    if start < 924:\n",
    "        print(\"Stores information is available since 924th draw.\")\n",
    "        return\n",
    "    print(f\"Collecting Locations from Draw #{start} to #{end}\")\n",
    "\n",
    "    table_class = \"tbl_data tbl_data_col\"\n",
    "\n",
    "    for idx in range(start, end + 1):\n",
    "        progress_bar(idx - start, end - start + 1)\n",
    "\n",
    "        locations = {'draw': idx}\n",
    "        idx_url = store_url + str(idx)\n",
    "\n",
    "        soup = BeautifulSoup(requests.get(idx_url).text, 'lxml')\n",
    "        tables = soup.find_all(\"table\", {\"class\":table_class})\n",
    "        tables = [x.find('tbody') for x in tables]\n",
    "\n",
    "        locations['first'] = parseStores(content = tables[0])\n",
    "        secondLocations = parseStores(content = tables[1], win = 2)\n",
    "\n",
    "        maxPage = len(soup.find('div', {\"id\": \"page_box\"}).find_all('a'))\n",
    "        for p in range(2, maxPage + 1):\n",
    "            soup = BeautifulSoup(requests.get(idx_url + \"&nowPage=\" + str(p)).text, 'lxml')\n",
    "            tables = soup.find_all(\"table\", {\"class\":table_class})\n",
    "            tables = [x.find('tbody') if i == 1 else None for i, x in enumerate(tables)]\n",
    "            secondLocations.extend(parseStores(content = tables[1], win = 2))\n",
    "        locations['second'] = secondLocations\n",
    "        lst.append(locations)\n",
    "    progress_bar(end, end)\n",
    "    print(\"\")\n",
    "    print(\"Done Collecting Locations!\")"
   ],
   "outputs": [],
   "metadata": {}
  },
  {
   "cell_type": "code",
   "execution_count": 87,
   "source": [
    "stores = []\n",
    "collectLocations(lst=stores)"
   ],
   "outputs": [
    {
     "output_type": "stream",
     "name": "stdout",
     "text": [
      "No new draws to be added.\n"
     ]
    }
   ],
   "metadata": {}
  },
  {
   "cell_type": "code",
   "execution_count": 89,
   "source": [
    "if len(stores) > 0:\n",
    "    print(f\"We have collected {len(stores)} draws\")\n",
    "    print(f\"First Set : {stores[0]}\")\n",
    "    print(f\"Last Set : {stores[-1]}\")\n",
    "else:\n",
    "    print(\"No additional stores collected.\")"
   ],
   "outputs": [
    {
     "output_type": "stream",
     "name": "stdout",
     "text": [
      "No additional stores collected.\n"
     ]
    }
   ],
   "metadata": {}
  },
  {
   "cell_type": "markdown",
   "source": [
    "## Raw Data to the Database\n",
    "Insert each draws' data and stores' data to 'DRAWS' & 'STORES' tables in lottery.db'."
   ],
   "metadata": {}
  },
  {
   "cell_type": "code",
   "execution_count": 90,
   "source": [
    "sql_draw_create = \"\"\"CREATE TABLE IF NOT EXISTS \n",
    "`DRAWS`(turn int, num_1 int, num_2 int, num_3 int, num_4 int, num_5 int, num_6 int, num_bonus int)\"\"\"\n",
    "sql_draw = \"\"\"INSERT INTO `DRAWS`(`turn`, `num_1`, `num_2`, `num_3`, `num_4`, `num_5`, `num_6`, `num_bonus`)\n",
    "VALUES(?, ?, ?, ?, ?, ?, ?, ?)\"\"\"\n",
    "sql_winner_create = \"\"\"CREATE TABLE IF NOT EXISTS \n",
    "`WINNERS`(turn int, winner_1 int, winner_2 int, winner_3 int, winner_4 int, winner_5 int)\"\"\"\n",
    "sql_winner = \"\"\"INSERT INTO `WINNERS`(`turn`, `winner_1`, `winner_2`, `winner_3`, `winner_4`, `winner_5`)\n",
    "VALUES(?, ?, ?, ?, ?, ?)\"\"\"\n",
    "sql_prize_create = \"\"\"CREATE TABLE IF NOT EXISTS \n",
    "`PRIZES`(turn int, prize_1 int, prize_2 int, prize_3 int, prize_4 int, prize_5 int)\"\"\"\n",
    "sql_prize = \"\"\"INSERT INTO `PRIZES`(`turn`, `prize_1`, `prize_2`, `prize_3`, `prize_4`, `prize_5`)\n",
    "VALUES(?, ?, ?, ?, ?, ?)\"\"\"\n",
    "sql_store_create = \"\"\"CREATE TABLE IF NOT EXISTS \n",
    "`STORES`(idx int, turn int, name varchar(255), auto BOOLEAN, firstPrize BOOLEAN, address varchar(255))\"\"\"\n",
    "sql_store = \"\"\"INSERT INTO `STORES`(`idx`, `turn`, `name`, `auto`, `firstPrize`, `address`) \n",
    "VALUES(?, ?, ?, ?, ?, ?)\"\"\""
   ],
   "outputs": [],
   "metadata": {}
  },
  {
   "cell_type": "code",
   "execution_count": 94,
   "source": [
    "def rawToDB(draws, stores, db_path):\n",
    "    con = sqlite3.connect(db_path)\n",
    "    cur = con.cursor()\n",
    "    if len(draws) < 1 or len(stores) < 1:\n",
    "        print(\"No additional data to be added to the database.\")\n",
    "        return\n",
    "\n",
    "    cur.execute(sql_draw_create)\n",
    "    cur.execute(sql_winner_create)\n",
    "    cur.execute(sql_prize_create)\n",
    "    cur.execute(sql_store_create)\n",
    "\n",
    "    for draw_info in draws:\n",
    "        draw = draw_info[\"draw\"]\n",
    "        nums = draw_info[\"nums\"]\n",
    "        winners = draw_info[\"winners\"]\n",
    "        prizes = draw_info[\"price\"]\n",
    "\n",
    "        data = tuple([draw] + [int(n) for n in nums])\n",
    "        cur.execute(sql_draw, data)\n",
    "        data = tuple([draw] + [int(n) for n in winners])\n",
    "        cur.execute(sql_winner, data)\n",
    "        data = tuple([draw] + [int(n) for n in prizes])\n",
    "        cur.execute(sql_prize, data)\n",
    "    row_idx = 0\n",
    "    for stores_info in stores:\n",
    "        draw = stores_info[\"draw\"] \n",
    "        for i in stores_info[\"first\"]:\n",
    "            data = tuple([row_idx, draw, str(i[0]), \\\n",
    "                1 if str(i[1]).strip() == \"자동\" else 0 \n",
    "                , 1, str(i[-1])])\n",
    "            cur.execute(sql_store, data)\n",
    "            row_idx += 1\n",
    "        for i in stores_info[\"second\"]:\n",
    "            data = tuple([row_idx, draw, str(i[0]), None, 0, str(i[-1])])\n",
    "            cur.execute(sql_store, data)\n",
    "            row_idx += 1\n",
    "    con.commit()\n",
    "    con.close()"
   ],
   "outputs": [],
   "metadata": {}
  },
  {
   "cell_type": "code",
   "execution_count": 95,
   "source": [
    "rawToDB(draws, stores, db_path)"
   ],
   "outputs": [
    {
     "output_type": "stream",
     "name": "stdout",
     "text": [
      "No additional data to be added to the database.\n"
     ]
    }
   ],
   "metadata": {}
  }
 ],
 "metadata": {
  "orig_nbformat": 4,
  "language_info": {
   "name": "python",
   "version": "3.7.3",
   "mimetype": "text/x-python",
   "codemirror_mode": {
    "name": "ipython",
    "version": 3
   },
   "pygments_lexer": "ipython3",
   "nbconvert_exporter": "python",
   "file_extension": ".py"
  },
  "kernelspec": {
   "name": "python3",
   "display_name": "Python 3.7.3 64-bit ('base': conda)"
  },
  "interpreter": {
   "hash": "398dc28c06ad810e77de546bbdfa897a6ee0b83e59a5207339dda01a7843e01d"
  }
 },
 "nbformat": 4,
 "nbformat_minor": 2
}