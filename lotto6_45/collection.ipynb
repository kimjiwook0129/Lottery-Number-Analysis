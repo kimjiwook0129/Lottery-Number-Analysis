{
 "cells": [
  {
   "cell_type": "code",
   "execution_count": 2,
   "source": [
    "import sys\n",
    "sys.path.append('..')"
   ],
   "outputs": [],
   "metadata": {}
  },
  {
   "cell_type": "code",
   "execution_count": 3,
   "source": [
    "import pandas as pd\n",
    "import requests\n",
    "import re\n",
    "from bs4 import BeautifulSoup\n",
    "from lib.progress_bar import progress_bar\n",
    "import json\n",
    "import sqlite3"
   ],
   "outputs": [],
   "metadata": {}
  },
  {
   "cell_type": "code",
   "execution_count": 4,
   "source": [
    "lotto_result_url = \"https://www.dhlottery.co.kr/gameResult.do?method=byWin\"\n",
    "lotto_result_draw = lotto_result_url + \"&drwNo=\"\n",
    "store_url = \"https://www.dhlottery.co.kr/store.do?method=topStore&pageGubun=L645&drwNo=\""
   ],
   "outputs": [],
   "metadata": {}
  },
  {
   "cell_type": "code",
   "execution_count": 5,
   "source": [
    "def recentDraw():\n",
    "    request = requests.get(lotto_result_url)\n",
    "    soup = BeautifulSoup(request.text, \"lxml\")\n",
    "    content = soup.find(\"meta\", {\"id\" : \"desc\", \"name\" : \"description\"})['content']\n",
    "    drawCount = re.compile(r'\\d+회')\n",
    "    mo = drawCount.search(content)\n",
    "    return int(mo.group()[:-1])"
   ],
   "outputs": [],
   "metadata": {}
  },
  {
   "cell_type": "code",
   "execution_count": 6,
   "source": [
    "mostRecent = recentDraw()\n",
    "print(f'Latest Draw : {mostRecent}')"
   ],
   "outputs": [
    {
     "output_type": "stream",
     "name": "stdout",
     "text": [
      "Latest Draw : 975\n"
     ]
    }
   ],
   "metadata": {}
  },
  {
   "cell_type": "code",
   "execution_count": 223,
   "source": [
    "def collectDraws(lst, start=1, end=mostRecent):\n",
    "    print(\"Collecting Draws...\")\n",
    "    for idx in range(start, end + 1):\n",
    "        draw = {'draw': idx}\n",
    "\n",
    "        req = requests.get(lotto_result_draw + str(idx))\n",
    "        soup = BeautifulSoup(req.text, 'lxml')\n",
    "\n",
    "        meta = soup.find(\"meta\", {\"id\" : \"desc\", \"name\" : \"description\"})['content']\n",
    "        first, last = re.compile(r'(\\d+,){4}\\d+'), re.compile('\\d+\\+\\d+')\n",
    "        first_mo, last_mo = first.search(meta), last.search(meta)\n",
    "        draw['nums'] = list(map(int, first_mo.group().split(',') + last_mo.group().split('+')))\n",
    "\n",
    "        total, winners = [], [0] * 5\n",
    "        table = soup.find(\"table\").find_all(\"td\", {\"class\":\"tar\"})\n",
    "        regex = re.compile(r'>\\d+.*원')\n",
    "        for i, c in enumerate(table):\n",
    "            mo = regex.search(str(c))\n",
    "            num = mo.group()[1:-1]\n",
    "            num = int(num.replace(\",\", \"\"))\n",
    "            if i % 2 == 0: total.append(num)\n",
    "            elif num > 0: winners[i // 2] = total[-1] // num\n",
    "        \n",
    "        draw['winners'] = winners\n",
    "        draw['price'] = total\n",
    "        progress_bar(idx - start, end - start)\n",
    "        lst.append(draw)\n",
    "    progress_bar(end, end)\n",
    "    print(\"Done Collecting Draws!\")"
   ],
   "outputs": [],
   "metadata": {}
  },
  {
   "cell_type": "code",
   "execution_count": 188,
   "source": [
    "draws = []\n",
    "collectDraws(lst=draws, start=1)"
   ],
   "outputs": [
    {
     "output_type": "stream",
     "name": "stdout",
     "text": [
      "[====================================================================================================] 100%"
     ]
    }
   ],
   "metadata": {}
  },
  {
   "cell_type": "code",
   "execution_count": 190,
   "source": [
    "print(f\"We have collected {len(draws)} draws.\")\n",
    "print(f\"First draw : {draws[0]}\")\n",
    "print(f\"Last draw : {draws[-1]}\")"
   ],
   "outputs": [
    {
     "output_type": "stream",
     "name": "stdout",
     "text": [
      "We have collected 975 draws.\n",
      "First draw : {'draw': 1, 'nums': [10, 23, 29, 33, 37, 40, 16], 'winners': [0, 1, 28, 2537, 40155], 'price': [0, 143934100, 143934000, 287695800, 401550000]}\n",
      "Last draw : {'draw': 975, 'nums': [7, 8, 9, 17, 22, 24, 5], 'winners': [9, 61, 2828, 135604, 2212347], 'price': [21963693375, 3660615612, 3660616932, 6780200000, 11061735000]}\n"
     ]
    }
   ],
   "metadata": {}
  },
  {
   "cell_type": "code",
   "execution_count": 191,
   "source": [
    "with open(\"draws.json\", \"w\") as outfile: \n",
    "    json.dumps(draws, indent = 4)  \n",
    "    json.dump(draws, outfile, indent = 4)"
   ],
   "outputs": [],
   "metadata": {}
  },
  {
   "cell_type": "code",
   "execution_count": 216,
   "source": [
    "def parseStores(content, win = 1):\n",
    "    stores = []\n",
    "    rows = content.find_all(\"tr\")\n",
    "    reg, regGen = re.compile(r'>.*<'), re.compile(r'[가-힣]+')\n",
    "\n",
    "    for r in rows:\n",
    "      tds = r.find_all('td')[1:4]\n",
    "      if win == 2: tds = tds[:-1]\n",
    "      store = []\n",
    "      for i, td in enumerate(tds):\n",
    "        if win == 1 and i == 1: td = str(regGen.search(str(td)).group())\n",
    "        else: td = str(reg.search(str(td)).group()[1:-1])\n",
    "        td = td.strip()\n",
    "        store.append(td)\n",
    "      stores.append(store)\n",
    "    return stores"
   ],
   "outputs": [],
   "metadata": {}
  },
  {
   "cell_type": "code",
   "execution_count": 221,
   "source": [
    "##### 924회부터 제공\n",
    "def collectLocations(lst, start=924, end=mostRecent):\n",
    "    if start < 924:\n",
    "        print(\"Stores information is available since 924th draw.\")\n",
    "        return\n",
    "    print(\"Collecting Locations...\")\n",
    "\n",
    "    table_class = \"tbl_data tbl_data_col\"\n",
    "\n",
    "    for idx in range(start, end + 1):\n",
    "        locations = {'draw': idx}\n",
    "        idx_url = store_url + str(idx)\n",
    "\n",
    "        soup = BeautifulSoup(requests.get(idx_url).text, 'lxml')\n",
    "        tables = soup.find_all(\"table\", {\"class\":table_class})\n",
    "        tables = [x.find('tbody') for x in tables]\n",
    "\n",
    "        locations['first'] = parseStores(content = tables[0])\n",
    "        secondLocations = parseStores(content = tables[1], win = 2)\n",
    "\n",
    "        maxPage = len(soup.find('div', {\"id\": \"page_box\"}).find_all('a'))\n",
    "        for p in range(2, maxPage + 1):\n",
    "            soup = BeautifulSoup(requests.get(idx_url + \"&nowPage=\" + str(p)).text, 'lxml')\n",
    "            tables = soup.find_all(\"table\", {\"class\":table_class})\n",
    "            tables = [x.find('tbody') if i == 1 else None for i, x in enumerate(tables)]\n",
    "            secondLocations.extend(parseStores(content = tables[1], win = 2))\n",
    "        locations['second'] = secondLocations\n",
    "        \n",
    "        progress_bar(idx - start, end - start)\n",
    "        lst.append(locations)\n",
    "    progress_bar(end, end)\n",
    "    print(\"\")\n",
    "    print(\"Done Collecting Locations!\")"
   ],
   "outputs": [],
   "metadata": {}
  },
  {
   "cell_type": "code",
   "execution_count": 222,
   "source": [
    "locations = []\n",
    "collectLocations(lst=locations)"
   ],
   "outputs": [
    {
     "output_type": "stream",
     "name": "stdout",
     "text": [
      "Collecting Locations...\n",
      "[====================================================================================================] 100%Done Collecting Locations!\n"
     ]
    }
   ],
   "metadata": {}
  },
  {
   "cell_type": "code",
   "execution_count": 224,
   "source": [
    "print(f\"We have collected {len(locations)} set of locations.\")\n",
    "print(f\"Last Set : {locations[-1]}\")"
   ],
   "outputs": [
    {
     "output_type": "stream",
     "name": "stdout",
     "text": [
      "We have collected 52 set of locations.\n",
      "Last Set : {'draw': 975, 'first': [['로또구포점', '자동', '부산 북구 덕천2길 23-3 1층'], ['노다지복권방', '자동', '대전 서구 조달청길 62'], ['금강복권', '자동', '경기 김포시 율생로 3'], ['행운복권', '자동', '경기 수원시 권선구 권선로 774-1'], ['오복 복권', '자동', '강원 강릉시 율곡로 2807'], ['춘향로또', '자동', '전북 남원시 동림로 102-1 산들애 김밥'], ['로또행운마트', '수동', '경남 김해시 능동로 177 복권판매점'], ['황금돼지 마트(복권방)', '수동', '경남 김해시 금관대로599번길 29 부영9단지상가 108호'], ['본스튜디오', '자동', '제주 제주시 하귀로 111']], 'second': [['가로판매소', '서울 구로구 새말로 97 서울 구로구 새말로 117-24(신도림역 2출구)(구로동)'], ['대박복권방', '서울 금천구 독산로64길 18'], ['인터넷 복권판매사이트', '동행복권(dhlottery.co.kr)'], ['인터넷 복권판매사이트', '동행복권(dhlottery.co.kr)'], ['버스충전소', '서울 서초구 동작대로 126 가판'], ['연초2호 쇼케이스7호', '서울 서초구 신반포로 194 강남고속버스터미널 쇼케이스7호'], ['인터넷 복권판매사이트', '동행복권(dhlottery.co.kr)'], ['인터넷 복권판매사이트', '동행복권(dhlottery.co.kr)'], ['인터넷 복권판매사이트', '동행복권(dhlottery.co.kr)'], ['노다지복권방', '서울 양천구 월정로 137'], ['로또복권', '서울 영등포구 영중로  22 120호(영등포동3가)'], ['복권마을', '서울 영등포구 가마산로 421-2'], ['럭키슈퍼', '서울 용산구 후암로 52'], ['월드마켓', '서울 은평구 불광로 28 시장내 18호'], ['무지개복권방', '서울 은평구 증산로19길 8-3,(신사동)'], ['CU(종로신교점)', '서울 종로구 필운대로 112-4,(신교동, 수만빌리지)'], ['GS25(종로낙원점)', '서울 종로구 수표로 123-4'], ['돈벼락맞는곳', '부산 동구 조방로49번길 18-1,(범일동)'], ['전원레코드', '부산 북구 효열로 226'], ['거제로또판매점', '부산 연제구 거제시장로14번길 28 (주)거제시장 112호,120호'], ['플라워맨', '대구 수성구 범어천로 134 초림빌딩 편의점_emart 24'], ['대복', '인천 남동구 남동대로239번길 68 후생시설상가 116호'], ['타운복권방', '광주 북구 밤실로 184-1,(두암동)'], ['찬스복권', '광주 서구 월산로 178 1층'], ['수암완구', '울산 남구 수암로 118'], ['벽제매표소', '경기 고양시 덕양구 통일로 772 통일로약국앞'], ['버스표판매소', '경기 고양시 덕양구 중앙로557번길 7-23 비금빌딩앞'], ['고흥상회', '경기 고양시 일산동구 성현로 389'], ['초월대박복권방', '경기 광주시 경충대로 1252'], ['프로피스', '경기 구리시 이문안로 11,(교문동)'], ['대박찬스', '경기 남양주시 진접읍 광릉내로 81 14'], ['꿈과희망의복권방', '경기 부천시 원미로 130,(원미동)'], ['디딤슈퍼', '경기 부천시 도약로 279'], ['로또복권방', '경기 안양시 만안구 경수대로 1265 103호'], ['복돼지', '경기 오산시 원동로 6 파크스퀘어 113호'], ['천하명당복권방', '경기 의왕시 경수대로 248 보왕빌딩'], ['로또복권방', '경기 파주시 중앙로 263'], ['복권명당', '경기 평택시 이충로 86 만민교회 1층'], ['올인(allin)', '경기 화성시 3.1만세로 1147'], ['해오름 복권점', '강원 속초시 해오름로 57 1층'], ['복권판매점', '충북 증평군 초중로 74 편의점'], ['동대로또복권방', '충남 보령시 동현로 26'], ['필로또복권', '충남 서산시 호수공원6로 64 1층'], ['콘테인복권판매점', '충남 천안시 동남구 청수11로 13-11 건물 뒤편 콘테인커피숍 내'], ['위앤조이', '충남 천안시 서북구 천안대로 1391'], ['피씨마트', '전북 군산시 경기장로 20'], ['행운복권방 보생당건강원', '전북 익산시 무왕로 1268'], ['운수대통복권방', '전북 익산시 무왕로23길 3'], ['금암복권방', '전북 전주시 덕진구 조경단로 39'], ['대박복권방', '전남 목포시 원산로 64 대박복권방'], ['복권나라', '경북 경산시 경안로 79,(삼남동)'], ['역전로또', '경북 경주시 원화로 260 1층 짐케어내'], ['행운복권방(야사점)', '경북 영천시 호국로 55-3'], ['로또방양덕점', '경북 포항시 북구 양덕로50번길 14 이마트24포항양덕점'], ['로또', '경남 고성군 고성읍 동외로167번길 11'], ['삼방동토토플러스복권방', '경남 김해시 삼안로 239'], ['삼영복권', '경남 김해시 분성로194번길 1 복권판매점'], ['삼방동토토플러스복권방', '경남 김해시 삼안로 239'], ['꿈을주는집', '경남 양산시 황산로  697 상가동 102호 복권판매점'], ['로또찜', '경남 창원시 마산합포구 현동로 56 108호 1층 가고파빌딩'], ['세븐일레븐창원사림중앙점', '경남 창원시 의창구 창이대로413번길 32 세븐일레븐']]}\n"
     ]
    }
   ],
   "metadata": {}
  },
  {
   "cell_type": "code",
   "execution_count": 227,
   "source": [
    "with open(\"stores.json\", \"w\") as outfile: \n",
    "    json.dumps(locations, indent = 4)  \n",
    "    json.dump(locations, outfile, indent = 4)"
   ],
   "outputs": [],
   "metadata": {}
  },
  {
   "cell_type": "code",
   "execution_count": 29,
   "source": [
    "draws = []\n",
    "stores = []\n",
    "with open(\"stores.json\", \"r\") as file:\n",
    "    stores = json.load(file)\n",
    "with open(\"draws.json\", \"r\") as file:\n",
    "    draws = json.load(file)"
   ],
   "outputs": [],
   "metadata": {}
  },
  {
   "cell_type": "code",
   "execution_count": 57,
   "source": [
    "sql_draw_create = \"CREATE TABLE IF NOT EXISTS `DRAWS`(turn int, num_1 int, num_2 int, num_3 int, num_4 int, num_5 int, num_6 int, num_bonus int)\"\n",
    "sql_draw = \"INSERT INTO `DRAWS`(`turn`, `num_1`, `num_2`, `num_3`, `num_4`, `num_5`, `num_6`, `num_bonus`) \" \\\n",
    "            \"VALUES(?, ?, ?, ?, ?, ?, ?, ?)\"\n",
    "sql_winner_create = \"CREATE TABLE IF NOT EXISTS `WINNERS`(turn int, winner_1 int, winner_2 int, winner_3 int, winner_4 int, winner_5 int)\"\n",
    "sql_winner = \"INSERT INTO `WINNERS`(`turn`, `winner_1`, `winner_2`, `winner_3`, `winner_4`, `winner_5`) VALUES(?, ?, ?, ?, ?, ?)\"\n",
    "sql_prize_create = \"CREATE TABLE IF NOT EXISTS `PRIZES`(turn int, prize_1 int, prize_2 int, prize_3 int, prize_4 int, prize_5 int)\"\n",
    "sql_prize = \"INSERT INTO `PRIZES`(`turn`, `prize_1`, `prize_2`, `prize_3`, `prize_4`, `prize_5`) VALUES(?, ?, ?, ?, ?, ?)\"\n",
    "sql_store_create = \"CREATE TABLE IF NOT EXISTS `STORES`(idx int, turn int, name varchar(255), auto BOOLEAN, firstPrize BOOLEAN, address varchar(255))\"\n",
    "sql_store = \"INSERT INTO `STORES`(`idx`, `turn`, `name`, `auto`, `firstPrize`, `address`) VALUES(?, ?, ?, ?, ?, ?)\""
   ],
   "outputs": [],
   "metadata": {}
  },
  {
   "cell_type": "code",
   "execution_count": 58,
   "source": [
    "def rawToDB(draws, stores, db_path):\n",
    "    con = sqlite3.connect(db_path)\n",
    "    cur = con.cursor()\n",
    "\n",
    "    cur.execute(sql_draw_create)\n",
    "    cur.execute(sql_winner_create)\n",
    "    cur.execute(sql_prize_create)\n",
    "    cur.execute(sql_store_create)\n",
    "\n",
    "    for draw_info in draws:\n",
    "        draw = draw_info[\"draw\"]\n",
    "        nums = draw_info[\"nums\"]\n",
    "        winners = draw_info[\"winners\"]\n",
    "        prizes = draw_info[\"price\"]\n",
    "\n",
    "        data = tuple([draw] + [int(n) for n in nums])\n",
    "        cur.execute(sql_draw, data)\n",
    "        data = tuple([draw] + [int(n) for n in winners])\n",
    "        cur.execute(sql_winner, data)\n",
    "        data = tuple([draw] + [int(n) for n in prizes])\n",
    "        cur.execute(sql_prize, data)\n",
    "    row_idx = 0\n",
    "    for stores_info in stores:\n",
    "        draw = stores_info[\"draw\"] \n",
    "        for i in stores_info[\"first\"]:\n",
    "            data = tuple([row_idx, draw, str(i[0]), \\\n",
    "                1 if str(i[1]).strip() == \"자동\" else 0 \n",
    "                , 1, str(i[-1])])\n",
    "            cur.execute(sql_store, data)\n",
    "            row_idx += 1\n",
    "        for i in stores_info[\"second\"]:\n",
    "            data = tuple([row_idx, draw, str(i[0]), None, 0, str(i[-1])])\n",
    "            cur.execute(sql_store, data)\n",
    "            row_idx += 1\n",
    "    con.commit()\n",
    "    con.close()"
   ],
   "outputs": [],
   "metadata": {}
  },
  {
   "cell_type": "code",
   "execution_count": 61,
   "source": [
    "db_path = \"lottery.db\"\n",
    "rawToDB(draws, stores, db_path)"
   ],
   "outputs": [],
   "metadata": {}
  }
 ],
 "metadata": {
  "orig_nbformat": 4,
  "language_info": {
   "name": "python",
   "version": "3.7.3",
   "mimetype": "text/x-python",
   "codemirror_mode": {
    "name": "ipython",
    "version": 3
   },
   "pygments_lexer": "ipython3",
   "nbconvert_exporter": "python",
   "file_extension": ".py"
  },
  "kernelspec": {
   "name": "python3",
   "display_name": "Python 3.7.3 64-bit ('base': conda)"
  },
  "interpreter": {
   "hash": "398dc28c06ad810e77de546bbdfa897a6ee0b83e59a5207339dda01a7843e01d"
  }
 },
 "nbformat": 4,
 "nbformat_minor": 2
}