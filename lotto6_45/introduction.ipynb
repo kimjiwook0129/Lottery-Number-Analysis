{
 "cells": [
  {
   "cell_type": "markdown",
   "source": [
    "# Introduction"
   ],
   "metadata": {}
  },
  {
   "cell_type": "markdown",
   "source": [
    "The directory is based on South Korea's biggest lottery **Lotto 6/45**."
   ],
   "metadata": {}
  },
  {
   "cell_type": "markdown",
   "source": [
    "## Setup"
   ],
   "metadata": {}
  },
  {
   "cell_type": "code",
   "execution_count": 29,
   "source": [
    "from lib.nCr import nCr"
   ],
   "outputs": [],
   "metadata": {}
  },
  {
   "cell_type": "markdown",
   "source": [
    "**Let us calculate the probabilities of each price:**"
   ],
   "metadata": {}
  },
  {
   "cell_type": "code",
   "execution_count": 30,
   "source": [
    "total = nCr(45, 6)\n",
    "\n",
    "# Getting all 6 numbers right\n",
    "prob = total / nCr(6, 6) \n",
    "print(f'1st Place Probability : 1 / {prob:,}')\n",
    "\n",
    "# Getting 5 numbers, bonus right, selecting 0 wrong number\n",
    "prob = total / (nCr(6, 5) * nCr(39, 0) * nCr(1, 1)) \n",
    "print(f'2nd Place Probability : 1 / {prob:,}')\n",
    "\n",
    "# Getting 5 numbers, selecting 1 wrong number, \n",
    "# Excluding 6 of 2nd place possible cases\n",
    "prob = total / (nCr(6, 5) * nCr(39, 1) - 6)\n",
    "print(f'3rd Place Probability : 1 / {prob:,}')\n",
    "\n",
    "# Getting 4 numbers, selecting 2 wrong numbers\n",
    "prob = total / (nCr(6, 4) * nCr(39, 2))\n",
    "print(f'4th Place Probability : 1 / {prob:,}')\n",
    "\n",
    "# Getting 3 numbers, selecting 3 wrong numbers\n",
    "prob = total / (nCr(6, 3) * nCr(39, 3))\n",
    "print(f'5th Place Probability : 1 / {prob:,}')"
   ],
   "outputs": [
    {
     "output_type": "stream",
     "name": "stdout",
     "text": [
      "1st Place Probability : 1 / 8,145,060.0\n",
      "2nd Place Probability : 1 / 1,357,510.0\n",
      "3rd Place Probability : 1 / 35,723.94736842105\n",
      "4th Place Probability : 1 / 732.7989203778677\n",
      "5th Place Probability : 1 / 44.56209650946493\n"
     ]
    }
   ],
   "metadata": {}
  },
  {
   "cell_type": "markdown",
   "source": [
    "**P (Total Price Money)= 0.5 * (Total Lottery Sold)**<br>**A = P - (Money Distributed to 4th & 5th prizes)**\n",
    "| Rank | Price | Probability | Note |\n",
    "| :-: | :-: | --: | :-: |\n",
    "| 1 | 75% of A(Total) | 1 / 8,145,060 | 6 Numbers Match |\n",
    "| 2 | 12.5% of A(Total) | 1 / 1,357,510 | 5 Numbers + Bonus Number Match |\n",
    "| 3 | 12.5% of A(Total) | ≈ 1 / 35,723 | 5 Numbers Match |\n",
    "| 4 | ₩50,000 | ≈ 1 / 733 | 4 Numbers Match |\n",
    "| 5 | ₩5,000 | ≈ 1 / 45 | 3 Numbers Match |"
   ],
   "metadata": {}
  },
  {
   "cell_type": "markdown",
   "source": [],
   "metadata": {}
  },
  {
   "cell_type": "markdown",
   "source": [],
   "metadata": {}
  }
 ],
 "metadata": {
  "orig_nbformat": 4,
  "language_info": {
   "name": "python",
   "version": "3.7.3",
   "mimetype": "text/x-python",
   "codemirror_mode": {
    "name": "ipython",
    "version": 3
   },
   "pygments_lexer": "ipython3",
   "nbconvert_exporter": "python",
   "file_extension": ".py"
  },
  "kernelspec": {
   "name": "python3",
   "display_name": "Python 3.7.3 64-bit ('base': conda)"
  },
  "interpreter": {
   "hash": "398dc28c06ad810e77de546bbdfa897a6ee0b83e59a5207339dda01a7843e01d"
  }
 },
 "nbformat": 4,
 "nbformat_minor": 2
}